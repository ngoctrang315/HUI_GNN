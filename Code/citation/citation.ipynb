{
 "cells": [
  {
   "cell_type": "code",
   "execution_count": 26,
   "id": "b8dc9f8e",
   "metadata": {
    "_cell_guid": "b1076dfc-b9ad-4769-8c92-a6c4dae69d19",
    "_uuid": "8f2839f25d086af736a60e9eeb907d3b93b6e0e5",
    "execution": {
     "iopub.execute_input": "2022-12-01T10:45:04.735383Z",
     "iopub.status.busy": "2022-12-01T10:45:04.734504Z",
     "iopub.status.idle": "2022-12-01T10:45:06.564862Z",
     "shell.execute_reply": "2022-12-01T10:45:06.563555Z"
    },
    "papermill": {
     "duration": 1.849463,
     "end_time": "2022-12-01T10:45:06.567750",
     "exception": false,
     "start_time": "2022-12-01T10:45:04.718287",
     "status": "completed"
    },
    "tags": []
   },
   "outputs": [],
   "source": [
    "\n",
    "import numpy as np\n",
    "import pandas as pd \n",
    "import re\n",
    "import nltk\n",
    "import string,time\n",
    "import ast\n",
    "from sklearn.metrics.pairwise import cosine_similarity\n",
    "from textblob import TextBlob\n",
    "from nltk.tokenize import word_tokenize,sent_tokenize\n"
   ]
  },
  {
   "cell_type": "code",
   "execution_count": 27,
   "id": "2ce5476a",
   "metadata": {
    "execution": {
     "iopub.execute_input": "2022-12-01T10:45:06.596043Z",
     "iopub.status.busy": "2022-12-01T10:45:06.594859Z",
     "iopub.status.idle": "2022-12-01T10:45:06.755593Z",
     "shell.execute_reply": "2022-12-01T10:45:06.754176Z"
    },
    "papermill": {
     "duration": 0.17724,
     "end_time": "2022-12-01T10:45:06.758085",
     "exception": false,
     "start_time": "2022-12-01T10:45:06.580845",
     "status": "completed"
    },
    "tags": []
   },
   "outputs": [
    {
     "name": "stderr",
     "output_type": "stream",
     "text": [
      "C:\\Users\\HP\\AppData\\Local\\Temp\\ipykernel_15588\\4208446275.py:1: DtypeWarning: Columns (0,3,5) have mixed types. Specify dtype option on import or set low_memory=False.\n",
      "  df = pd.read_csv('./citation_network.csv')\n"
     ]
    }
   ],
   "source": [
    "\n",
    "df = pd.read_csv('./citation_network.csv')\n",
    "# Lấy 10.000 dòng đầu tiên\n",
    "#df = df.head(10000)  # Sử dụng phương thức head"
   ]
  },
  {
   "cell_type": "code",
   "execution_count": 28,
   "id": "06d81473",
   "metadata": {
    "execution": {
     "iopub.execute_input": "2022-12-01T10:45:06.788779Z",
     "iopub.status.busy": "2022-12-01T10:45:06.787663Z",
     "iopub.status.idle": "2022-12-01T10:45:06.794769Z",
     "shell.execute_reply": "2022-12-01T10:45:06.793768Z"
    },
    "papermill": {
     "duration": 0.023658,
     "end_time": "2022-12-01T10:45:06.796930",
     "exception": false,
     "start_time": "2022-12-01T10:45:06.773272",
     "status": "completed"
    },
    "tags": []
   },
   "outputs": [
    {
     "data": {
      "text/plain": [
       "(4894402, 8)"
      ]
     },
     "execution_count": 28,
     "metadata": {},
     "output_type": "execute_result"
    }
   ],
   "source": [
    "#shape of the dataframe\n",
    "\n",
    "df.shape"
   ]
  },
  {
   "cell_type": "code",
   "execution_count": 29,
   "id": "40a3edf4",
   "metadata": {
    "execution": {
     "iopub.execute_input": "2022-12-01T10:45:06.826611Z",
     "iopub.status.busy": "2022-12-01T10:45:06.825613Z",
     "iopub.status.idle": "2022-12-01T10:45:06.841244Z",
     "shell.execute_reply": "2022-12-01T10:45:06.839832Z"
    },
    "papermill": {
     "duration": 0.03392,
     "end_time": "2022-12-01T10:45:06.844123",
     "exception": false,
     "start_time": "2022-12-01T10:45:06.810203",
     "status": "completed"
    },
    "tags": []
   },
   "outputs": [
    {
     "data": {
      "text/html": [
       "<div>\n",
       "<style scoped>\n",
       "    .dataframe tbody tr th:only-of-type {\n",
       "        vertical-align: middle;\n",
       "    }\n",
       "\n",
       "    .dataframe tbody tr th {\n",
       "        vertical-align: top;\n",
       "    }\n",
       "\n",
       "    .dataframe thead th {\n",
       "        text-align: right;\n",
       "    }\n",
       "</style>\n",
       "<table border=\"1\" class=\"dataframe\">\n",
       "  <thead>\n",
       "    <tr style=\"text-align: right;\">\n",
       "      <th></th>\n",
       "      <th>id</th>\n",
       "      <th>title</th>\n",
       "      <th>year</th>\n",
       "      <th>n_citation</th>\n",
       "      <th>doc_type</th>\n",
       "      <th>reference_count</th>\n",
       "      <th>references</th>\n",
       "      <th>doi</th>\n",
       "    </tr>\n",
       "  </thead>\n",
       "  <tbody>\n",
       "    <tr>\n",
       "      <th>0</th>\n",
       "      <td>1091</td>\n",
       "      <td>Preliminary Design of a Network Protocol Learn...</td>\n",
       "      <td>2013.0</td>\n",
       "      <td>1</td>\n",
       "      <td>Conference</td>\n",
       "      <td>2.0</td>\n",
       "      <td>2005687710;2018037215</td>\n",
       "      <td>https://doi.org/10.1007/978-3-642-39476-8_19</td>\n",
       "    </tr>\n",
       "    <tr>\n",
       "      <th>1</th>\n",
       "      <td>1388</td>\n",
       "      <td>Further Results on Independence in Direct-Prod...</td>\n",
       "      <td>2000.0</td>\n",
       "      <td>1</td>\n",
       "      <td>Journal</td>\n",
       "      <td>NaN</td>\n",
       "      <td>NaN</td>\n",
       "      <td>NaN</td>\n",
       "    </tr>\n",
       "    <tr>\n",
       "      <th>2</th>\n",
       "      <td>1674</td>\n",
       "      <td>A methodology for the physically accurate visu...</td>\n",
       "      <td>2011.0</td>\n",
       "      <td>1</td>\n",
       "      <td>Conference</td>\n",
       "      <td>15.0</td>\n",
       "      <td>1535888970;1992876689;1993710814;2035653341;20...</td>\n",
       "      <td>https://doi.org/10.2312/VAST/VAST11/137-144</td>\n",
       "    </tr>\n",
       "    <tr>\n",
       "      <th>3</th>\n",
       "      <td>1688</td>\n",
       "      <td>Comparison of GARCH, Neural Network and Suppor...</td>\n",
       "      <td>2009.0</td>\n",
       "      <td>6</td>\n",
       "      <td>Conference</td>\n",
       "      <td>3.0</td>\n",
       "      <td>1560724230;1986968751;2156909104</td>\n",
       "      <td>https://doi.org/10.1007/978-3-642-11164-8_97</td>\n",
       "    </tr>\n",
       "    <tr>\n",
       "      <th>4</th>\n",
       "      <td>5411</td>\n",
       "      <td>COMPARING GNG3D AND QUADRIC ERROR METRICS METH...</td>\n",
       "      <td>2009.0</td>\n",
       "      <td>0</td>\n",
       "      <td>Conference</td>\n",
       "      <td>NaN</td>\n",
       "      <td>NaN</td>\n",
       "      <td>NaN</td>\n",
       "    </tr>\n",
       "  </tbody>\n",
       "</table>\n",
       "</div>"
      ],
      "text/plain": [
       "     id                                              title    year n_citation  \\\n",
       "0  1091  Preliminary Design of a Network Protocol Learn...  2013.0          1   \n",
       "1  1388  Further Results on Independence in Direct-Prod...  2000.0          1   \n",
       "2  1674  A methodology for the physically accurate visu...  2011.0          1   \n",
       "3  1688  Comparison of GARCH, Neural Network and Suppor...  2009.0          6   \n",
       "4  5411  COMPARING GNG3D AND QUADRIC ERROR METRICS METH...  2009.0          0   \n",
       "\n",
       "     doc_type reference_count  \\\n",
       "0  Conference             2.0   \n",
       "1     Journal             NaN   \n",
       "2  Conference            15.0   \n",
       "3  Conference             3.0   \n",
       "4  Conference             NaN   \n",
       "\n",
       "                                          references  \\\n",
       "0                              2005687710;2018037215   \n",
       "1                                                NaN   \n",
       "2  1535888970;1992876689;1993710814;2035653341;20...   \n",
       "3                   1560724230;1986968751;2156909104   \n",
       "4                                                NaN   \n",
       "\n",
       "                                            doi  \n",
       "0  https://doi.org/10.1007/978-3-642-39476-8_19  \n",
       "1                                           NaN  \n",
       "2   https://doi.org/10.2312/VAST/VAST11/137-144  \n",
       "3  https://doi.org/10.1007/978-3-642-11164-8_97  \n",
       "4                                           NaN  "
      ]
     },
     "execution_count": 29,
     "metadata": {},
     "output_type": "execute_result"
    }
   ],
   "source": [
    "df.head()"
   ]
  },
  {
   "cell_type": "code",
   "execution_count": 30,
   "id": "a5784827",
   "metadata": {
    "execution": {
     "iopub.execute_input": "2022-12-01T10:45:06.922443Z",
     "iopub.status.busy": "2022-12-01T10:45:06.921848Z",
     "iopub.status.idle": "2022-12-01T10:45:06.951673Z",
     "shell.execute_reply": "2022-12-01T10:45:06.950452Z"
    },
    "papermill": {
     "duration": 0.048748,
     "end_time": "2022-12-01T10:45:06.954185",
     "exception": false,
     "start_time": "2022-12-01T10:45:06.905437",
     "status": "completed"
    },
    "tags": []
   },
   "outputs": [
    {
     "name": "stdout",
     "output_type": "stream",
     "text": [
      "<class 'pandas.core.frame.DataFrame'>\n",
      "RangeIndex: 4894402 entries, 0 to 4894401\n",
      "Data columns (total 8 columns):\n",
      " #   Column           Dtype  \n",
      "---  ------           -----  \n",
      " 0   id               object \n",
      " 1   title            object \n",
      " 2   year             float64\n",
      " 3   n_citation       object \n",
      " 4   doc_type         object \n",
      " 5   reference_count  object \n",
      " 6   references       object \n",
      " 7   doi              object \n",
      "dtypes: float64(1), object(7)\n",
      "memory usage: 298.7+ MB\n"
     ]
    }
   ],
   "source": [
    "# getting information about dataframe\n",
    "\n",
    "df.info()"
   ]
  },
  {
   "cell_type": "markdown",
   "id": "93270644",
   "metadata": {
    "papermill": {
     "duration": 0.014173,
     "end_time": "2022-12-01T10:45:06.982203",
     "exception": false,
     "start_time": "2022-12-01T10:45:06.968030",
     "status": "completed"
    },
    "tags": []
   },
   "source": [
    "**Handling Null Values**"
   ]
  },
  {
   "cell_type": "code",
   "execution_count": 31,
   "id": "48486cbd",
   "metadata": {
    "execution": {
     "iopub.execute_input": "2022-12-01T10:45:07.015219Z",
     "iopub.status.busy": "2022-12-01T10:45:07.013674Z",
     "iopub.status.idle": "2022-12-01T10:45:07.027462Z",
     "shell.execute_reply": "2022-12-01T10:45:07.026301Z"
    },
    "papermill": {
     "duration": 0.033101,
     "end_time": "2022-12-01T10:45:07.029789",
     "exception": false,
     "start_time": "2022-12-01T10:45:06.996688",
     "status": "completed"
    },
    "tags": []
   },
   "outputs": [
    {
     "data": {
      "text/plain": [
       "id                       0\n",
       "title                   53\n",
       "year                   330\n",
       "n_citation             325\n",
       "doc_type            499813\n",
       "reference_count    1117295\n",
       "references         1117264\n",
       "doi                 973707\n",
       "dtype: int64"
      ]
     },
     "execution_count": 31,
     "metadata": {},
     "output_type": "execute_result"
    }
   ],
   "source": [
    "df.isnull().sum()"
   ]
  },
  {
   "cell_type": "code",
   "execution_count": 32,
   "id": "20e10eba",
   "metadata": {},
   "outputs": [],
   "source": [
    "df = df.dropna(subset=['title'])"
   ]
  },
  {
   "cell_type": "markdown",
   "id": "f29fb521",
   "metadata": {
    "papermill": {
     "duration": 0.014148,
     "end_time": "2022-12-01T10:45:07.058378",
     "exception": false,
     "start_time": "2022-12-01T10:45:07.044230",
     "status": "completed"
    },
    "tags": []
   },
   "source": [
    "****"
   ]
  },
  {
   "cell_type": "code",
   "execution_count": 33,
   "id": "cc8e990e",
   "metadata": {
    "execution": {
     "iopub.execute_input": "2022-12-01T10:45:07.147015Z",
     "iopub.status.busy": "2022-12-01T10:45:07.145871Z",
     "iopub.status.idle": "2022-12-01T10:45:07.167732Z",
     "shell.execute_reply": "2022-12-01T10:45:07.166532Z"
    },
    "papermill": {
     "duration": 0.040599,
     "end_time": "2022-12-01T10:45:07.170619",
     "exception": false,
     "start_time": "2022-12-01T10:45:07.130020",
     "status": "completed"
    },
    "tags": []
   },
   "outputs": [],
   "source": [
    "#Creating some column to know the words  distribution\n",
    "\n",
    "df[\"title_len\"]=df[\"title\"].apply(lambda x:len(x))\n",
    "\n",
    "#Counting words\n",
    "df[\"word_count\"]=df[\"title\"].apply(lambda x:(len(x.split())))\n"
   ]
  },
  {
   "cell_type": "code",
   "execution_count": 34,
   "id": "389d7884",
   "metadata": {
    "execution": {
     "iopub.execute_input": "2022-12-01T10:45:07.201769Z",
     "iopub.status.busy": "2022-12-01T10:45:07.201338Z",
     "iopub.status.idle": "2022-12-01T10:45:07.207129Z",
     "shell.execute_reply": "2022-12-01T10:45:07.205934Z"
    },
    "papermill": {
     "duration": 0.023857,
     "end_time": "2022-12-01T10:45:07.209426",
     "exception": false,
     "start_time": "2022-12-01T10:45:07.185569",
     "status": "completed"
    },
    "tags": []
   },
   "outputs": [],
   "source": [
    "# Function for getting average word lenghth\n",
    "\n",
    "def get_avg_word_len(x):\n",
    "    \n",
    "    words=x.split()\n",
    "    word_len=0\n",
    "    for word in words:\n",
    "        word_len=word_len +len(word)\n",
    "    return word_len/len(words) "
   ]
  },
  {
   "cell_type": "code",
   "execution_count": 35,
   "id": "b4df4dfb",
   "metadata": {
    "execution": {
     "iopub.execute_input": "2022-12-01T10:45:07.242784Z",
     "iopub.status.busy": "2022-12-01T10:45:07.241969Z",
     "iopub.status.idle": "2022-12-01T10:45:07.266784Z",
     "shell.execute_reply": "2022-12-01T10:45:07.265451Z"
    },
    "papermill": {
     "duration": 0.043413,
     "end_time": "2022-12-01T10:45:07.269410",
     "exception": false,
     "start_time": "2022-12-01T10:45:07.225997",
     "status": "completed"
    },
    "tags": []
   },
   "outputs": [],
   "source": [
    "df[\"avg_word_len\"]=df[\"title\"].apply(lambda x: get_avg_word_len(x))"
   ]
  },
  {
   "cell_type": "code",
   "execution_count": 36,
   "id": "d45c4f3d",
   "metadata": {
    "execution": {
     "iopub.execute_input": "2022-12-01T10:45:07.301019Z",
     "iopub.status.busy": "2022-12-01T10:45:07.300502Z",
     "iopub.status.idle": "2022-12-01T10:45:07.317901Z",
     "shell.execute_reply": "2022-12-01T10:45:07.316706Z"
    },
    "papermill": {
     "duration": 0.037401,
     "end_time": "2022-12-01T10:45:07.320891",
     "exception": false,
     "start_time": "2022-12-01T10:45:07.283490",
     "status": "completed"
    },
    "tags": []
   },
   "outputs": [
    {
     "data": {
      "text/html": [
       "<div>\n",
       "<style scoped>\n",
       "    .dataframe tbody tr th:only-of-type {\n",
       "        vertical-align: middle;\n",
       "    }\n",
       "\n",
       "    .dataframe tbody tr th {\n",
       "        vertical-align: top;\n",
       "    }\n",
       "\n",
       "    .dataframe thead th {\n",
       "        text-align: right;\n",
       "    }\n",
       "</style>\n",
       "<table border=\"1\" class=\"dataframe\">\n",
       "  <thead>\n",
       "    <tr style=\"text-align: right;\">\n",
       "      <th></th>\n",
       "      <th>id</th>\n",
       "      <th>title</th>\n",
       "      <th>year</th>\n",
       "      <th>n_citation</th>\n",
       "      <th>doc_type</th>\n",
       "      <th>reference_count</th>\n",
       "      <th>references</th>\n",
       "      <th>doi</th>\n",
       "      <th>title_len</th>\n",
       "      <th>word_count</th>\n",
       "      <th>avg_word_len</th>\n",
       "    </tr>\n",
       "  </thead>\n",
       "  <tbody>\n",
       "    <tr>\n",
       "      <th>0</th>\n",
       "      <td>1091</td>\n",
       "      <td>Preliminary Design of a Network Protocol Learn...</td>\n",
       "      <td>2013.0</td>\n",
       "      <td>1</td>\n",
       "      <td>Conference</td>\n",
       "      <td>2.0</td>\n",
       "      <td>2005687710;2018037215</td>\n",
       "      <td>https://doi.org/10.1007/978-3-642-39476-8_19</td>\n",
       "      <td>159</td>\n",
       "      <td>26</td>\n",
       "      <td>5.153846</td>\n",
       "    </tr>\n",
       "    <tr>\n",
       "      <th>1</th>\n",
       "      <td>1388</td>\n",
       "      <td>Further Results on Independence in Direct-Prod...</td>\n",
       "      <td>2000.0</td>\n",
       "      <td>1</td>\n",
       "      <td>Journal</td>\n",
       "      <td>NaN</td>\n",
       "      <td>NaN</td>\n",
       "      <td>NaN</td>\n",
       "      <td>57</td>\n",
       "      <td>7</td>\n",
       "      <td>7.285714</td>\n",
       "    </tr>\n",
       "    <tr>\n",
       "      <th>2</th>\n",
       "      <td>1674</td>\n",
       "      <td>A methodology for the physically accurate visu...</td>\n",
       "      <td>2011.0</td>\n",
       "      <td>1</td>\n",
       "      <td>Conference</td>\n",
       "      <td>15.0</td>\n",
       "      <td>1535888970;1992876689;1993710814;2035653341;20...</td>\n",
       "      <td>https://doi.org/10.2312/VAST/VAST11/137-144</td>\n",
       "      <td>84</td>\n",
       "      <td>11</td>\n",
       "      <td>6.727273</td>\n",
       "    </tr>\n",
       "    <tr>\n",
       "      <th>3</th>\n",
       "      <td>1688</td>\n",
       "      <td>Comparison of GARCH, Neural Network and Suppor...</td>\n",
       "      <td>2009.0</td>\n",
       "      <td>6</td>\n",
       "      <td>Conference</td>\n",
       "      <td>3.0</td>\n",
       "      <td>1560724230;1986968751;2156909104</td>\n",
       "      <td>https://doi.org/10.1007/978-3-642-11164-8_97</td>\n",
       "      <td>98</td>\n",
       "      <td>14</td>\n",
       "      <td>6.071429</td>\n",
       "    </tr>\n",
       "    <tr>\n",
       "      <th>4</th>\n",
       "      <td>5411</td>\n",
       "      <td>COMPARING GNG3D AND QUADRIC ERROR METRICS METH...</td>\n",
       "      <td>2009.0</td>\n",
       "      <td>0</td>\n",
       "      <td>Conference</td>\n",
       "      <td>NaN</td>\n",
       "      <td>NaN</td>\n",
       "      <td>NaN</td>\n",
       "      <td>71</td>\n",
       "      <td>11</td>\n",
       "      <td>5.545455</td>\n",
       "    </tr>\n",
       "  </tbody>\n",
       "</table>\n",
       "</div>"
      ],
      "text/plain": [
       "     id                                              title    year n_citation  \\\n",
       "0  1091  Preliminary Design of a Network Protocol Learn...  2013.0          1   \n",
       "1  1388  Further Results on Independence in Direct-Prod...  2000.0          1   \n",
       "2  1674  A methodology for the physically accurate visu...  2011.0          1   \n",
       "3  1688  Comparison of GARCH, Neural Network and Suppor...  2009.0          6   \n",
       "4  5411  COMPARING GNG3D AND QUADRIC ERROR METRICS METH...  2009.0          0   \n",
       "\n",
       "     doc_type reference_count  \\\n",
       "0  Conference             2.0   \n",
       "1     Journal             NaN   \n",
       "2  Conference            15.0   \n",
       "3  Conference             3.0   \n",
       "4  Conference             NaN   \n",
       "\n",
       "                                          references  \\\n",
       "0                              2005687710;2018037215   \n",
       "1                                                NaN   \n",
       "2  1535888970;1992876689;1993710814;2035653341;20...   \n",
       "3                   1560724230;1986968751;2156909104   \n",
       "4                                                NaN   \n",
       "\n",
       "                                            doi  title_len  word_count  \\\n",
       "0  https://doi.org/10.1007/978-3-642-39476-8_19        159          26   \n",
       "1                                           NaN         57           7   \n",
       "2   https://doi.org/10.2312/VAST/VAST11/137-144         84          11   \n",
       "3  https://doi.org/10.1007/978-3-642-11164-8_97         98          14   \n",
       "4                                           NaN         71          11   \n",
       "\n",
       "   avg_word_len  \n",
       "0      5.153846  \n",
       "1      7.285714  \n",
       "2      6.727273  \n",
       "3      6.071429  \n",
       "4      5.545455  "
      ]
     },
     "execution_count": 36,
     "metadata": {},
     "output_type": "execute_result"
    }
   ],
   "source": [
    "df.head()"
   ]
  },
  {
   "cell_type": "markdown",
   "id": "e0e59034",
   "metadata": {
    "papermill": {
     "duration": 0.527917,
     "end_time": "2022-12-01T10:45:16.177529",
     "exception": false,
     "start_time": "2022-12-01T10:45:15.649612",
     "status": "completed"
    },
    "tags": []
   },
   "source": [
    "**Some  Preprocessing steps**"
   ]
  },
  {
   "cell_type": "code",
   "execution_count": 37,
   "id": "0ec0a4e6",
   "metadata": {
    "execution": {
     "iopub.execute_input": "2022-12-01T10:45:17.267294Z",
     "iopub.status.busy": "2022-12-01T10:45:17.266346Z",
     "iopub.status.idle": "2022-12-01T10:45:17.278679Z",
     "shell.execute_reply": "2022-12-01T10:45:17.277725Z"
    },
    "papermill": {
     "duration": 0.557601,
     "end_time": "2022-12-01T10:45:17.281024",
     "exception": false,
     "start_time": "2022-12-01T10:45:16.723423",
     "status": "completed"
    },
    "tags": []
   },
   "outputs": [
    {
     "data": {
      "text/plain": [
       "0          preliminary design of a network protocol learn...\n",
       "1          further results on independence in direct-prod...\n",
       "2          a methodology for the physically accurate visu...\n",
       "3          comparison of garch, neural network and suppor...\n",
       "4          comparing gng3d and quadric error metrics meth...\n",
       "                                 ...                        \n",
       "4894397    a naïve-bayesian methodology to classify echo ...\n",
       "4894398     blind equalization for underwater communications\n",
       "4894399             technical implementation and feasibility\n",
       "4894400                      knowledge patterns in databases\n",
       "4894401    bemerkung zu gurevich's arbeit über das entsch...\n",
       "Name: title, Length: 4894349, dtype: object"
      ]
     },
     "execution_count": 37,
     "metadata": {},
     "output_type": "execute_result"
    }
   ],
   "source": [
    " # converting title column to lower case\n",
    "\n",
    "df[\"title\"].str.lower()"
   ]
  },
  {
   "cell_type": "code",
   "execution_count": 38,
   "id": "2aeddc90",
   "metadata": {
    "execution": {
     "iopub.execute_input": "2022-12-01T10:45:19.427181Z",
     "iopub.status.busy": "2022-12-01T10:45:19.426301Z",
     "iopub.status.idle": "2022-12-01T10:45:19.431599Z",
     "shell.execute_reply": "2022-12-01T10:45:19.430670Z"
    },
    "papermill": {
     "duration": 0.537857,
     "end_time": "2022-12-01T10:45:19.434146",
     "exception": false,
     "start_time": "2022-12-01T10:45:18.896289",
     "status": "completed"
    },
    "tags": []
   },
   "outputs": [],
   "source": [
    "#Tag Removing Function (for safety purpose)\n",
    "\n",
    "def remove_tags(text):\n",
    "    pattern=re.compile(\"<.-*?>\")\n",
    "    return pattern.sub(r'',text)"
   ]
  },
  {
   "cell_type": "code",
   "execution_count": 39,
   "id": "ab84b13c",
   "metadata": {
    "execution": {
     "iopub.execute_input": "2022-12-01T10:45:20.495651Z",
     "iopub.status.busy": "2022-12-01T10:45:20.494426Z",
     "iopub.status.idle": "2022-12-01T10:45:20.527357Z",
     "shell.execute_reply": "2022-12-01T10:45:20.526196Z"
    },
    "papermill": {
     "duration": 0.571642,
     "end_time": "2022-12-01T10:45:20.529767",
     "exception": false,
     "start_time": "2022-12-01T10:45:19.958125",
     "status": "completed"
    },
    "tags": []
   },
   "outputs": [
    {
     "data": {
      "text/plain": [
       "0          Preliminary Design of a Network Protocol Learn...\n",
       "1          Further Results on Independence in Direct-Prod...\n",
       "2          A methodology for the physically accurate visu...\n",
       "3          Comparison of GARCH, Neural Network and Suppor...\n",
       "4          COMPARING GNG3D AND QUADRIC ERROR METRICS METH...\n",
       "                                 ...                        \n",
       "4894397    A Naïve-Bayesian methodology to classify echo ...\n",
       "4894398     Blind Equalization for underwater communications\n",
       "4894399             Technical Implementation and Feasibility\n",
       "4894400                      Knowledge Patterns in Databases\n",
       "4894401    Bemerkung zu Gurevich's Arbeit über das Entsch...\n",
       "Name: title, Length: 4894349, dtype: object"
      ]
     },
     "execution_count": 39,
     "metadata": {},
     "output_type": "execute_result"
    }
   ],
   "source": [
    "#Tag Removal operation\n",
    "\n",
    "df['title']=df['title'].apply(remove_tags)\n",
    "df[\"title\"]"
   ]
  },
  {
   "cell_type": "markdown",
   "id": "8d867682",
   "metadata": {
    "papermill": {
     "duration": 0.52186,
     "end_time": "2022-12-01T10:45:21.582522",
     "exception": false,
     "start_time": "2022-12-01T10:45:21.060662",
     "status": "completed"
    },
    "tags": []
   },
   "source": [
    "**Removing Punctuation**"
   ]
  },
  {
   "cell_type": "code",
   "execution_count": 40,
   "id": "9ddaf013",
   "metadata": {
    "execution": {
     "iopub.execute_input": "2022-12-01T10:45:22.639649Z",
     "iopub.status.busy": "2022-12-01T10:45:22.638270Z",
     "iopub.status.idle": "2022-12-01T10:45:22.644149Z",
     "shell.execute_reply": "2022-12-01T10:45:22.643202Z"
    },
    "papermill": {
     "duration": 0.539099,
     "end_time": "2022-12-01T10:45:22.646809",
     "exception": false,
     "start_time": "2022-12-01T10:45:22.107710",
     "status": "completed"
    },
    "tags": []
   },
   "outputs": [],
   "source": [
    "#Getting all the punctuation\n",
    "punctuation=string.punctuation"
   ]
  },
  {
   "cell_type": "code",
   "execution_count": 41,
   "id": "ae5d3ebb",
   "metadata": {
    "execution": {
     "iopub.execute_input": "2022-12-01T10:45:23.710733Z",
     "iopub.status.busy": "2022-12-01T10:45:23.710144Z",
     "iopub.status.idle": "2022-12-01T10:45:23.714771Z",
     "shell.execute_reply": "2022-12-01T10:45:23.713893Z"
    },
    "papermill": {
     "duration": 0.536643,
     "end_time": "2022-12-01T10:45:23.717167",
     "exception": false,
     "start_time": "2022-12-01T10:45:23.180524",
     "status": "completed"
    },
    "tags": []
   },
   "outputs": [],
   "source": [
    "# Implementing String Removing\n",
    "def remove_punc(text): \n",
    "    return  text.translate(str.maketrans('','',punctuation))"
   ]
  },
  {
   "cell_type": "code",
   "execution_count": 42,
   "id": "b4f13b4b",
   "metadata": {
    "execution": {
     "iopub.execute_input": "2022-12-01T10:45:24.761600Z",
     "iopub.status.busy": "2022-12-01T10:45:24.760869Z",
     "iopub.status.idle": "2022-12-01T10:45:24.871030Z",
     "shell.execute_reply": "2022-12-01T10:45:24.869995Z"
    },
    "papermill": {
     "duration": 0.629082,
     "end_time": "2022-12-01T10:45:24.873556",
     "exception": false,
     "start_time": "2022-12-01T10:45:24.244474",
     "status": "completed"
    },
    "tags": []
   },
   "outputs": [],
   "source": [
    "df['title']=df['title'].apply(remove_punc)\n"
   ]
  },
  {
   "cell_type": "code",
   "execution_count": 43,
   "id": "f95019c5",
   "metadata": {
    "execution": {
     "iopub.execute_input": "2022-12-01T10:45:25.928665Z",
     "iopub.status.busy": "2022-12-01T10:45:25.927670Z",
     "iopub.status.idle": "2022-12-01T10:45:25.936417Z",
     "shell.execute_reply": "2022-12-01T10:45:25.935492Z"
    },
    "papermill": {
     "duration": 0.536094,
     "end_time": "2022-12-01T10:45:25.939061",
     "exception": false,
     "start_time": "2022-12-01T10:45:25.402967",
     "status": "completed"
    },
    "tags": []
   },
   "outputs": [
    {
     "data": {
      "text/plain": [
       "0          Preliminary Design of a Network Protocol Learn...\n",
       "1          Further Results on Independence in DirectProdu...\n",
       "2          A methodology for the physically accurate visu...\n",
       "3          Comparison of GARCH Neural Network and Support...\n",
       "4          COMPARING GNG3D AND QUADRIC ERROR METRICS METH...\n",
       "                                 ...                        \n",
       "4894397    A NaïveBayesian methodology to classify echo c...\n",
       "4894398     Blind Equalization for underwater communications\n",
       "4894399             Technical Implementation and Feasibility\n",
       "4894400                      Knowledge Patterns in Databases\n",
       "4894401    Bemerkung zu Gurevichs Arbeit über das Entsche...\n",
       "Name: title, Length: 4894349, dtype: object"
      ]
     },
     "execution_count": 43,
     "metadata": {},
     "output_type": "execute_result"
    }
   ],
   "source": [
    "df[\"title\"]"
   ]
  },
  {
   "cell_type": "code",
   "execution_count": 44,
   "id": "7fa4355e",
   "metadata": {
    "execution": {
     "iopub.execute_input": "2022-12-01T10:45:30.208869Z",
     "iopub.status.busy": "2022-12-01T10:45:30.208466Z",
     "iopub.status.idle": "2022-12-01T10:45:30.215295Z",
     "shell.execute_reply": "2022-12-01T10:45:30.214447Z"
    },
    "papermill": {
     "duration": 0.537771,
     "end_time": "2022-12-01T10:45:30.217587",
     "exception": false,
     "start_time": "2022-12-01T10:45:29.679816",
     "status": "completed"
    },
    "tags": []
   },
   "outputs": [
    {
     "data": {
      "text/plain": [
       "'danc'"
      ]
     },
     "execution_count": 44,
     "metadata": {},
     "output_type": "execute_result"
    }
   ],
   "source": [
    "#Example of Stemming\n",
    "from nltk.stem import PorterStemmer\n",
    "porter = PorterStemmer()\n",
    "porter.stem('dancing')\n",
    "\n",
    "# porter.stem('running')  o/p- run\n",
    "#it used for finding root word"
   ]
  },
  {
   "cell_type": "code",
   "execution_count": 45,
   "id": "96d58da6",
   "metadata": {
    "execution": {
     "iopub.execute_input": "2022-12-01T10:45:33.349355Z",
     "iopub.status.busy": "2022-12-01T10:45:33.348534Z",
     "iopub.status.idle": "2022-12-01T10:45:33.639537Z",
     "shell.execute_reply": "2022-12-01T10:45:33.638138Z"
    },
    "papermill": {
     "duration": 0.822238,
     "end_time": "2022-12-01T10:45:33.642236",
     "exception": false,
     "start_time": "2022-12-01T10:45:32.819998",
     "status": "completed"
    },
    "tags": []
   },
   "outputs": [],
   "source": [
    "import nltk\n",
    "#nltk.download('omw-1.4')"
   ]
  },
  {
   "cell_type": "code",
   "execution_count": 46,
   "id": "188fb02d",
   "metadata": {
    "execution": {
     "iopub.execute_input": "2022-12-01T10:45:34.718141Z",
     "iopub.status.busy": "2022-12-01T10:45:34.717662Z",
     "iopub.status.idle": "2022-12-01T10:45:36.762123Z",
     "shell.execute_reply": "2022-12-01T10:45:36.760752Z"
    },
    "papermill": {
     "duration": 2.581773,
     "end_time": "2022-12-01T10:45:36.765201",
     "exception": false,
     "start_time": "2022-12-01T10:45:34.183428",
     "status": "completed"
    },
    "tags": []
   },
   "outputs": [
    {
     "name": "stdout",
     "output_type": "stream",
     "text": [
      "cat\n",
      "cactus\n"
     ]
    }
   ],
   "source": [
    "#Examples of Lemmatization\n",
    "from nltk.stem import WordNetLemmatizer\n",
    "lemmatizer = WordNetLemmatizer()\n",
    "print(lemmatizer.lemmatize(\"cats\"))\n",
    "print(lemmatizer.lemmatize(\"cacti\"))"
   ]
  },
  {
   "cell_type": "markdown",
   "id": "67f4c555",
   "metadata": {
    "papermill": {
     "duration": 0.516959,
     "end_time": "2022-12-01T10:45:37.831371",
     "exception": false,
     "start_time": "2022-12-01T10:45:37.314412",
     "status": "completed"
    },
    "tags": []
   },
   "source": [
    "## Building our recommendation model "
   ]
  },
  {
   "cell_type": "code",
   "execution_count": 47,
   "id": "5c334cfb",
   "metadata": {
    "execution": {
     "iopub.execute_input": "2022-12-01T10:45:38.897976Z",
     "iopub.status.busy": "2022-12-01T10:45:38.897188Z",
     "iopub.status.idle": "2022-12-01T10:45:38.902307Z",
     "shell.execute_reply": "2022-12-01T10:45:38.901448Z"
    },
    "papermill": {
     "duration": 0.544409,
     "end_time": "2022-12-01T10:45:38.904659",
     "exception": false,
     "start_time": "2022-12-01T10:45:38.360250",
     "status": "completed"
    },
    "tags": []
   },
   "outputs": [],
   "source": [
    "#Stemming\n",
    "\n",
    "def stem(text):\n",
    "    lst=[]\n",
    "    for i in text.split():\n",
    "        lst.append(ps.stem(i))\n",
    "    return \" \".join(lst)"
   ]
  },
  {
   "cell_type": "code",
   "execution_count": 48,
   "id": "27e3ceaf",
   "metadata": {
    "execution": {
     "iopub.execute_input": "2022-12-01T10:45:39.950171Z",
     "iopub.status.busy": "2022-12-01T10:45:39.949410Z",
     "iopub.status.idle": "2022-12-01T10:45:39.959015Z",
     "shell.execute_reply": "2022-12-01T10:45:39.957966Z"
    },
    "papermill": {
     "duration": 0.53495,
     "end_time": "2022-12-01T10:45:39.961787",
     "exception": false,
     "start_time": "2022-12-01T10:45:39.426837",
     "status": "completed"
    },
    "tags": []
   },
   "outputs": [],
   "source": [
    "df[\"title\"]=df[\"title\"].apply(lambda x:x.lower())"
   ]
  },
  {
   "cell_type": "markdown",
   "id": "276cf149",
   "metadata": {
    "papermill": {
     "duration": 0.516542,
     "end_time": "2022-12-01T10:45:41.001881",
     "exception": false,
     "start_time": "2022-12-01T10:45:40.485339",
     "status": "completed"
    },
    "tags": []
   },
   "source": [
    "## Removing Stop Words"
   ]
  },
  {
   "cell_type": "code",
   "execution_count": 49,
   "id": "c81f8492",
   "metadata": {
    "execution": {
     "iopub.execute_input": "2022-12-01T10:45:43.099969Z",
     "iopub.status.busy": "2022-12-01T10:45:43.099554Z",
     "iopub.status.idle": "2022-12-01T10:45:43.104947Z",
     "shell.execute_reply": "2022-12-01T10:45:43.103755Z"
    },
    "papermill": {
     "duration": 0.539078,
     "end_time": "2022-12-01T10:45:43.107526",
     "exception": false,
     "start_time": "2022-12-01T10:45:42.568448",
     "status": "completed"
    },
    "tags": []
   },
   "outputs": [],
   "source": [
    "from sklearn.feature_extraction.text import CountVectorizer\n",
    "cv=CountVectorizer(max_features=500,stop_words=\"english\")"
   ]
  },
  {
   "cell_type": "code",
   "execution_count": null,
   "id": "8ca0e80f",
   "metadata": {
    "execution": {
     "iopub.execute_input": "2022-12-01T10:45:44.173070Z",
     "iopub.status.busy": "2022-12-01T10:45:44.172245Z",
     "iopub.status.idle": "2022-12-01T10:45:44.398247Z",
     "shell.execute_reply": "2022-12-01T10:45:44.397113Z"
    },
    "papermill": {
     "duration": 0.75725,
     "end_time": "2022-12-01T10:45:44.400886",
     "exception": false,
     "start_time": "2022-12-01T10:45:43.643636",
     "status": "completed"
    },
    "tags": []
   },
   "outputs": [],
   "source": [
    "# Converting titles into array\n",
    "vectors=cv.fit_transform(df[\"title\"]).toarray()"
   ]
  },
  {
   "cell_type": "code",
   "execution_count": 26,
   "id": "072ebdd0",
   "metadata": {
    "execution": {
     "iopub.execute_input": "2022-12-01T10:45:45.457291Z",
     "iopub.status.busy": "2022-12-01T10:45:45.456846Z",
     "iopub.status.idle": "2022-12-01T10:45:45.464385Z",
     "shell.execute_reply": "2022-12-01T10:45:45.463228Z"
    },
    "papermill": {
     "duration": 0.541223,
     "end_time": "2022-12-01T10:45:45.467204",
     "exception": false,
     "start_time": "2022-12-01T10:45:44.925981",
     "status": "completed"
    },
    "tags": []
   },
   "outputs": [
    {
     "data": {
      "text/plain": [
       "(10000, 5000)"
      ]
     },
     "execution_count": 26,
     "metadata": {},
     "output_type": "execute_result"
    }
   ],
   "source": [
    "#Getting shape of vector\n",
    "vectors.shape"
   ]
  },
  {
   "cell_type": "code",
   "execution_count": 27,
   "id": "fd7616ce",
   "metadata": {
    "execution": {
     "iopub.execute_input": "2022-12-01T10:45:46.540237Z",
     "iopub.status.busy": "2022-12-01T10:45:46.539772Z",
     "iopub.status.idle": "2022-12-01T10:45:46.547140Z",
     "shell.execute_reply": "2022-12-01T10:45:46.546037Z"
    },
    "papermill": {
     "duration": 0.550353,
     "end_time": "2022-12-01T10:45:46.549593",
     "exception": false,
     "start_time": "2022-12-01T10:45:45.999240",
     "status": "completed"
    },
    "tags": []
   },
   "outputs": [
    {
     "data": {
      "text/plain": [
       "array([[0, 0, 0, ..., 0, 0, 0],\n",
       "       [0, 0, 0, ..., 0, 0, 0],\n",
       "       [0, 0, 0, ..., 0, 0, 0],\n",
       "       ...,\n",
       "       [0, 0, 0, ..., 0, 0, 0],\n",
       "       [0, 0, 0, ..., 0, 0, 0],\n",
       "       [0, 0, 0, ..., 0, 0, 0]], dtype=int64)"
      ]
     },
     "execution_count": 27,
     "metadata": {},
     "output_type": "execute_result"
    }
   ],
   "source": [
    "vectors"
   ]
  },
  {
   "cell_type": "code",
   "execution_count": 29,
   "id": "b74dd576",
   "metadata": {
    "execution": {
     "iopub.execute_input": "2022-12-01T10:45:47.622374Z",
     "iopub.status.busy": "2022-12-01T10:45:47.621964Z",
     "iopub.status.idle": "2022-12-01T10:45:47.649765Z",
     "shell.execute_reply": "2022-12-01T10:45:47.647996Z"
    },
    "papermill": {
     "duration": 0.559252,
     "end_time": "2022-12-01T10:45:47.652037",
     "exception": false,
     "start_time": "2022-12-01T10:45:47.092785",
     "status": "completed"
    },
    "tags": []
   },
   "outputs": [
    {
     "name": "stdout",
     "output_type": "stream",
     "text": [
      "Feature names: ['01' '10' '15' ... 'zu' 'zum' 'zur']\n"
     ]
    }
   ],
   "source": [
    "# Lấy tên các đặc trưng\n",
    "feature_names = cv.get_feature_names_out()\n",
    "print(\"Feature names:\", feature_names)\n"
   ]
  },
  {
   "cell_type": "code",
   "execution_count": 30,
   "id": "a5f58353",
   "metadata": {
    "execution": {
     "iopub.execute_input": "2022-12-01T10:45:48.707860Z",
     "iopub.status.busy": "2022-12-01T10:45:48.707426Z",
     "iopub.status.idle": "2022-12-01T10:45:53.603522Z",
     "shell.execute_reply": "2022-12-01T10:45:53.602059Z"
    },
    "papermill": {
     "duration": 5.434419,
     "end_time": "2022-12-01T10:45:53.606358",
     "exception": false,
     "start_time": "2022-12-01T10:45:48.171939",
     "status": "completed"
    },
    "tags": []
   },
   "outputs": [],
   "source": [
    "#Finding similarity between vectors\n",
    "\n",
    "similarity=cosine_similarity(vectors)\n"
   ]
  },
  {
   "cell_type": "code",
   "execution_count": 31,
   "id": "f042921b",
   "metadata": {
    "execution": {
     "iopub.execute_input": "2022-12-01T10:45:54.661682Z",
     "iopub.status.busy": "2022-12-01T10:45:54.660723Z",
     "iopub.status.idle": "2022-12-01T10:45:54.668783Z",
     "shell.execute_reply": "2022-12-01T10:45:54.667557Z"
    },
    "papermill": {
     "duration": 0.536862,
     "end_time": "2022-12-01T10:45:54.671072",
     "exception": false,
     "start_time": "2022-12-01T10:45:54.134210",
     "status": "completed"
    },
    "tags": []
   },
   "outputs": [
    {
     "data": {
      "text/plain": [
       "array([0., 0., 0., ..., 0., 0., 0.])"
      ]
     },
     "execution_count": 31,
     "metadata": {},
     "output_type": "execute_result"
    }
   ],
   "source": [
    "# Acessing other similar element to \"5th title\"\n",
    "similarity[5]"
   ]
  },
  {
   "cell_type": "code",
   "execution_count": 43,
   "id": "cd042303",
   "metadata": {
    "execution": {
     "iopub.execute_input": "2022-12-01T10:45:55.724048Z",
     "iopub.status.busy": "2022-12-01T10:45:55.723645Z",
     "iopub.status.idle": "2022-12-01T10:45:55.730417Z",
     "shell.execute_reply": "2022-12-01T10:45:55.729246Z"
    },
    "papermill": {
     "duration": 0.531724,
     "end_time": "2022-12-01T10:45:55.732701",
     "exception": false,
     "start_time": "2022-12-01T10:45:55.200977",
     "status": "completed"
    },
    "tags": []
   },
   "outputs": [],
   "source": [
    "#Recommendation Function\n",
    "\n",
    "def recommend(tag):\n",
    "    \n",
    "    title_index=df[df[\"title\"]==tag].index[0]\n",
    "    distances=similarity[title_index]\n",
    "    title_list=sorted(list(enumerate(distances)),reverse=True,key=lambda x:x[1])[1:6]\n",
    "    \n",
    "    for i in title_list:\n",
    "        print(df.iloc[i[0]].title)\n",
    "    "
   ]
  },
  {
   "cell_type": "code",
   "execution_count": 49,
   "id": "0e96b3f3",
   "metadata": {},
   "outputs": [],
   "source": [
    "def recommend(tag):\n",
    "    if tag not in df['title'].values:\n",
    "        print(f\"Tiêu đề '{tag}' không tồn tại trong Data\")\n",
    "        return\n",
    "    \n",
    "    title_index = df[df[\"title\"] == tag].index[0]\n",
    "    distances = similarity[title_index]\n",
    "    \n",
    "    # Lấy 5 tiêu đề tương tự nhất\n",
    "    title_list = sorted(list(enumerate(distances)), reverse=True, key=lambda x: x[1])[1:6]\n",
    "    \n",
    "    print(f\"Gợi ý cho '{tag}':\")\n",
    "    for i in title_list:\n",
    "        print(f\"- {df.iloc[i[0]].title} (Độ tương đồng: {i[1]:.4f})\")  # In thêm độ tương đồng\n"
   ]
  },
  {
   "cell_type": "code",
   "execution_count": 44,
   "id": "8d3b1988",
   "metadata": {
    "execution": {
     "iopub.execute_input": "2022-12-01T10:45:56.777782Z",
     "iopub.status.busy": "2022-12-01T10:45:56.776999Z",
     "iopub.status.idle": "2022-12-01T10:45:56.783719Z",
     "shell.execute_reply": "2022-12-01T10:45:56.782629Z"
    },
    "papermill": {
     "duration": 0.530033,
     "end_time": "2022-12-01T10:45:56.786014",
     "exception": false,
     "start_time": "2022-12-01T10:45:56.255981",
     "status": "completed"
    },
    "tags": []
   },
   "outputs": [
    {
     "data": {
      "text/plain": [
       "'preliminary design of a network protocol learning tool based on the comprehension of high school students design by an empirical study using a simple mind map'"
      ]
     },
     "execution_count": 44,
     "metadata": {},
     "output_type": "execute_result"
    }
   ],
   "source": [
    "df['title'][0]"
   ]
  },
  {
   "cell_type": "code",
   "execution_count": 54,
   "id": "f0fb55f9",
   "metadata": {
    "execution": {
     "iopub.execute_input": "2022-12-01T10:45:57.828054Z",
     "iopub.status.busy": "2022-12-01T10:45:57.827241Z",
     "iopub.status.idle": "2022-12-01T10:45:57.842249Z",
     "shell.execute_reply": "2022-12-01T10:45:57.840882Z"
    },
    "papermill": {
     "duration": 0.538194,
     "end_time": "2022-12-01T10:45:57.845513",
     "exception": false,
     "start_time": "2022-12-01T10:45:57.307319",
     "status": "completed"
    },
    "tags": []
   },
   "outputs": [
    {
     "name": "stdout",
     "output_type": "stream",
     "text": [
      "Gợi ý cho 'vectorial fast correlation attacks':\n",
      "- fast dqbf refutation (Độ tương đồng: 0.5774)\n",
      "- boomerang attacks on blake32 (Độ tương đồng: 0.5774)\n",
      "- suicide bombing attacks simulation (Độ tương đồng: 0.4082)\n",
      "- fast piercing of isooriented rectangles (Độ tương đồng: 0.4082)\n",
      "- fast wireframevisibility algorithm (Độ tương đồng: 0.4082)\n"
     ]
    }
   ],
   "source": [
    "#top 5 similar type of title  \n",
    "recommend('vectorial fast correlation attacks')"
   ]
  },
  {
   "cell_type": "markdown",
   "id": "eab65103",
   "metadata": {
    "papermill": {
     "duration": 0.555457,
     "end_time": "2022-12-01T10:46:00.018824",
     "exception": false,
     "start_time": "2022-12-01T10:45:59.463367",
     "status": "completed"
    },
    "tags": []
   },
   "source": [
    "****"
   ]
  },
  {
   "cell_type": "code",
   "execution_count": 55,
   "id": "c6e773ba",
   "metadata": {
    "execution": {
     "iopub.execute_input": "2022-12-01T10:46:02.206482Z",
     "iopub.status.busy": "2022-12-01T10:46:02.205659Z",
     "iopub.status.idle": "2022-12-01T10:46:02.220596Z",
     "shell.execute_reply": "2022-12-01T10:46:02.219079Z"
    },
    "papermill": {
     "duration": 0.543502,
     "end_time": "2022-12-01T10:46:02.223350",
     "exception": false,
     "start_time": "2022-12-01T10:46:01.679848",
     "status": "completed"
    },
    "tags": []
   },
   "outputs": [
    {
     "name": "stdout",
     "output_type": "stream",
     "text": [
      "[6700]\n",
      "[7582]\n",
      "[3851]\n",
      "[6774]\n",
      "[7170]\n",
      "[975]\n",
      "[1230]\n",
      "[1776]\n",
      "[2762]\n",
      "[2796]\n",
      "[5576]\n",
      "[5585]\n",
      "[8932]\n",
      "[9714]\n"
     ]
    }
   ],
   "source": [
    "#internal things happening inside above function\n",
    "\n",
    "x=df[df[\"title\"]=='vectorial fast correlation attacks'].index[0]\n",
    "distances=similarity[x]\n",
    "title_list=sorted(list(enumerate(distances)),reverse=True,key=lambda x:x[1])[1:15]\n",
    "title_list\n",
    "\n",
    "for i in title_list:\n",
    "    print([i[0]])"
   ]
  }
 ],
 "metadata": {
  "kernelspec": {
   "display_name": "base",
   "language": "python",
   "name": "python3"
  },
  "language_info": {
   "codemirror_mode": {
    "name": "ipython",
    "version": 3
   },
   "file_extension": ".py",
   "mimetype": "text/x-python",
   "name": "python",
   "nbconvert_exporter": "python",
   "pygments_lexer": "ipython3",
   "version": "3.11.5"
  },
  "papermill": {
   "default_parameters": {},
   "duration": 72.915979,
   "end_time": "2022-12-01T10:46:08.278826",
   "environment_variables": {},
   "exception": null,
   "input_path": "__notebook__.ipynb",
   "output_path": "__notebook__.ipynb",
   "parameters": {},
   "start_time": "2022-12-01T10:44:55.362847",
   "version": "2.3.4"
  }
 },
 "nbformat": 4,
 "nbformat_minor": 5
}
