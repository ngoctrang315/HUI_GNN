{
 "cells": [
  {
   "cell_type": "code",
   "execution_count": 12,
   "id": "3edc6cf6",
   "metadata": {},
   "outputs": [],
   "source": [
    "import matplotlib.pyplot as plt\n",
    "import numpy as np\n",
    "import pandas as pd\n",
    "pd.set_option('display.max_columns', None)\n",
    "from sklearn.preprocessing import StandardScaler\n",
    "\n",
    "import nltk\n",
    "# nltk.download('wordnet')\n",
    "#from nltk.stem import PorterStemmer, WordNetLemmatizer\n",
    "\n",
    "from sklearn.feature_extraction.text import TfidfVectorizer  # Thay đổi ở đây\n",
    "from sklearn.neighbors import KNeighborsRegressor\n",
    "from math import sqrt\n",
    "\n",
    "import re\n",
    "import string\n",
    "from sklearn.metrics.pairwise import cosine_similarity\n",
    "\n",
    "from sklearn.metrics import mean_squared_error"
   ]
  },
  {
   "cell_type": "code",
   "execution_count": 13,
   "id": "66310854",
   "metadata": {},
   "outputs": [],
   "source": [
    "# Đọc dữ liệu\n",
    "items_df = pd.read_csv('./items.csv')\n",
    "ratings_df = pd.read_csv('./ratings.csv')\n",
    "users_df = pd.read_csv('./users.csv')"
   ]
  },
  {
   "cell_type": "code",
   "execution_count": 14,
   "id": "14775ba2",
   "metadata": {},
   "outputs": [],
   "source": [
    "items_df[\"feature\"] = items_df[\"feature\"].str.lower()\n",
    "\n",
    "def remove_tags(text):\n",
    "    pattern = re.compile(\"<.*?>\")\n",
    "    return pattern.sub(r'', text)\n",
    "\n",
    "items_df['feature'] = items_df['feature'].apply(remove_tags)\n",
    "punctuation = string.punctuation\n",
    "\n",
    "def remove_punc(text):\n",
    "    return text.translate(str.maketrans('', '', punctuation))\n",
    "\n",
    "items_df['feature'] = items_df['feature'].apply(remove_punc)"
   ]
  },
  {
   "cell_type": "code",
   "execution_count": 15,
   "id": "0f5e5eb1",
   "metadata": {},
   "outputs": [],
   "source": [
    "# Sử dụng TfidfVectorizer và tính cosine similarity trên cột 'feature'\n",
    "tfidf_vectorizer = TfidfVectorizer(max_features=5000, stop_words=\"english\")\n",
    "vectors = tfidf_vectorizer.fit_transform(items_df[\"feature\"]).toarray()\n",
    "similarity = cosine_similarity(vectors)"
   ]
  },
  {
   "cell_type": "code",
   "execution_count": 34,
   "id": "55a538e0",
   "metadata": {},
   "outputs": [],
   "source": [
    "# Lưu DataFrame thành file CSV\n",
    "vectors_df = pd.DataFrame(vectors)\n",
    "vectors_df.to_csv('vt.csv', index=False)"
   ]
  },
  {
   "cell_type": "code",
   "execution_count": 31,
   "id": "c427d3a1",
   "metadata": {},
   "outputs": [
    {
     "name": "stdout",
     "output_type": "stream",
     "text": [
      "Feature names: ['03mm' '05' '05mm' ... 'zippers' 'zone' 'zones']\n"
     ]
    }
   ],
   "source": [
    "feature_names = tfidf_vectorizer.get_feature_names_out()\n",
    "#print(\"Feature names:\", feature_names)"
   ]
  },
  {
   "cell_type": "code",
   "execution_count": 17,
   "id": "6e433966",
   "metadata": {},
   "outputs": [],
   "source": [
    "ratings_matrix = ratings_df.to_numpy()\n",
    "\n",
    "def get_items_rated_by_user(rate_matrix, user_id):\n",
    "    \"\"\"\n",
    "    Trả về (item_ids, scores)\n",
    "    \"\"\"\n",
    "    user_row_indices = np.where(rate_matrix[:, 0] == user_id + 1)[0]\n",
    "    if len(user_row_indices) == 0:\n",
    "        return np.array([]), np.array([])  \n",
    "\n",
    "    item_ids = rate_matrix[user_row_indices, 1] - 1  \n",
    "    scores = rate_matrix[user_row_indices, 2]\n",
    "    return item_ids.astype(int), scores  "
   ]
  },
  {
   "cell_type": "code",
   "execution_count": 18,
   "id": "5c19493e",
   "metadata": {},
   "outputs": [],
   "source": [
    "n_users = users_df.shape[0]\n",
    "#print(\"Number of users:\", n_users)\n",
    "n_items = items_df.shape[0]\n",
    "#print(\"Number of items:\", n_items)"
   ]
  },
  {
   "cell_type": "code",
   "execution_count": 19,
   "id": "ec357e1c",
   "metadata": {},
   "outputs": [],
   "source": [
    "knn_models = [None] * n_users\n",
    "\n",
    "for n in range(n_users):\n",
    "    ids, scores = get_items_rated_by_user(ratings_matrix, n)\n",
    "\n",
    "    if len(ids) == 0:\n",
    "        knn_models[n] = None  # Không có đánh giá\n",
    "        continue\n",
    "\n",
    "    n_neighbors = min(5, len(ids))\n",
    "    knn = KNeighborsRegressor(n_neighbors=n_neighbors, weights='uniform', metric='cosine')\n",
    "    Xhat = vectors[ids.astype(int), :]  \n",
    "    y = scores  \n",
    "    knn.fit(Xhat, y)\n",
    "    knn_models[n] = knn"
   ]
  },
  {
   "cell_type": "code",
   "execution_count": 20,
   "id": "dad0b46c",
   "metadata": {},
   "outputs": [],
   "source": [
    "# Dự đoán điểm đánh giá cho tất cả người dùng và item đã được đánh giá\n",
    "Yhat = np.zeros((n_items, n_users))\n",
    "\n",
    "for n in range(n_users):\n",
    "    knn = knn_models[n]\n",
    "    if knn is None:\n",
    "        continue \n",
    "\n",
    "    ids, scores = get_items_rated_by_user(ratings_matrix, n)\n",
    "    if len(ids) == 0:\n",
    "        continue\n",
    "\n",
    "    Xhat = vectors[ids, :] \n",
    "    y_pred = knn.predict(Xhat)\n",
    "\n",
    "    Yhat[ids, n] = y_pred"
   ]
  },
  {
   "cell_type": "code",
   "execution_count": 21,
   "id": "b211e4e3",
   "metadata": {},
   "outputs": [
    {
     "name": "stdout",
     "output_type": "stream",
     "text": [
      "MAE for training: 0.5754489526513736\n",
      "RMSE for training: 0.9042204573458988\n"
     ]
    }
   ],
   "source": [
    "def evaluate(Yhat, rates):\n",
    "    y_true = []\n",
    "    y_pred = []\n",
    "\n",
    "    for n in range(n_users):\n",
    "        ids, scores_truth = get_items_rated_by_user(rates, n)\n",
    "        if len(ids) == 0:\n",
    "            continue \n",
    "\n",
    "        scores_pred = Yhat[ids, n]\n",
    "        y_true.extend(scores_truth)\n",
    "        y_pred.extend(scores_pred)\n",
    "\n",
    "    mae = np.mean(np.abs(np.array(y_true) - np.array(y_pred))) if len(y_true) > 0 else float('nan')\n",
    "    rmse = mean_squared_error(y_true, y_pred, squared=False) if len(y_true) > 0 else float('nan')\n",
    "\n",
    "    return mae, rmse\n",
    "\n",
    "mae, rmse = evaluate(Yhat, ratings_matrix)\n",
    "print(\"MAE for training:\", mae)\n",
    "print(\"RMSE for training:\", rmse)"
   ]
  },
  {
   "cell_type": "code",
   "execution_count": 29,
   "id": "e2634311",
   "metadata": {},
   "outputs": [
    {
     "name": "stdout",
     "output_type": "stream",
     "text": [
      "Top 10 sản phẩm tương tự:\n",
      "1. itemId: 1285, PetSafe Easysport Harness\n",
      "2. itemId: 3595, DEXDOG EZHarness, Dog Harness | On/Off Quick | Easy Step in | Walk Vest\n",
      "3. itemId: 12757, 2 Hounds Design Freedom No-Pull Dog Harness, Adjustable Comfortable Control for Dog Walking, Made in USA (Leash Sold Separately) (5/8&quot;)\n",
      "4. itemId: 11607, 2 Hounds Design Freedom No-Pull Dog Harness and Leash, Adjustable Comfortable Control for Dog Walking, Made in USA (1&quot;)\n",
      "5. itemId: 1128, Kurgo Tru-Fit No Pull Dog Harness, Easy Walking Harness, Quick On and Off Harness With Pet Seat Belt Tether for Car\n",
      "6. itemId: 181, Easy to Put on and Take Off Small Dog Harnesses Our Small Dog Harness Vest has Padded Interior and Exterior Cushioning Ensuring Your Dog is Snug and Comfortable !\n",
      "7. itemId: 2012, Lifepul No Pull Dog Vest Harness - Dog Body Padded Vest - Comfort Control for Large Dogs in Training Walking - No More Pulling, Tugging or Choking\n",
      "8. itemId: 5534, Pawtitas Pet Reflective Step in Dog Harness Reflective Vest Harness Comfort Control Training Walking Your Puppy Harness/Dog Harness\n",
      "9. itemId: 10688, PetSafe Come with Me Kitty Harness and Bungee Leash, Harness for Cats\n",
      "10. itemId: 11139, Julius-K9 IDC Dog Harness\n"
     ]
    }
   ],
   "source": [
    "def get_top_similar_items(item_id, similarity_matrix, items_df, top_n=10):\n",
    "    item_similarities = similarity_matrix[item_id]  \n",
    "    similar_items = np.argsort(item_similarities)[::-1]  \n",
    "    \n",
    "    similar_items = similar_items[similar_items != item_id]\n",
    "    \n",
    "    similar_item_ids = items_df.iloc[similar_items[:top_n]]['itemId'].values\n",
    "    similar_item_names = items_df.iloc[similar_items[:top_n]]['itemName'].values\n",
    "\n",
    "    return similar_item_ids, similar_item_names\n",
    "\n",
    "item_id = int(input(\"Nhập ItemId: \"))\n",
    "top_similar_item_ids, top_similar_item_names = get_top_similar_items(item_id, similarity, items_df)\n",
    "\n",
    "print(f\"Top 10 sản phẩm tương tự:\")\n",
    "for idx, (item_id, item_name) in enumerate(zip(top_similar_item_ids, top_similar_item_names)):\n",
    "    print(f\"{idx + 1}. itemId: {item_id}, {item_name}\")\n"
   ]
  }
 ],
 "metadata": {
  "kernelspec": {
   "display_name": "base",
   "language": "python",
   "name": "python3"
  },
  "language_info": {
   "codemirror_mode": {
    "name": "ipython",
    "version": 3
   },
   "file_extension": ".py",
   "mimetype": "text/x-python",
   "name": "python",
   "nbconvert_exporter": "python",
   "pygments_lexer": "ipython3",
   "version": "3.11.5"
  },
  "papermill": {
   "default_parameters": {},
   "duration": 17.852979,
   "end_time": "2022-02-20T12:53:08.832586",
   "environment_variables": {},
   "exception": null,
   "input_path": "__notebook__.ipynb",
   "output_path": "__notebook__.ipynb",
   "parameters": {},
   "start_time": "2022-02-20T12:52:50.979607",
   "version": "2.3.3"
  }
 },
 "nbformat": 4,
 "nbformat_minor": 5
}
