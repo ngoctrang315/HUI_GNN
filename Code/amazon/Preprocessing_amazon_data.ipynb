{
 "cells": [
  {
   "cell_type": "code",
   "execution_count": 1,
   "id": "edb94936",
   "metadata": {
    "execution": {
     "iopub.execute_input": "2022-02-20T12:53:02.252272Z",
     "iopub.status.busy": "2022-02-20T12:53:02.250642Z",
     "iopub.status.idle": "2022-02-20T12:53:03.506635Z",
     "shell.execute_reply": "2022-02-20T12:53:03.508002Z",
     "shell.execute_reply.started": "2022-02-20T12:51:57.295108Z"
    },
    "papermill": {
     "duration": 1.323533,
     "end_time": "2022-02-20T12:53:03.508315",
     "exception": false,
     "start_time": "2022-02-20T12:53:02.184782",
     "status": "completed"
    },
    "tags": []
   },
   "outputs": [],
   "source": [
    "import matplotlib.pyplot as plt\n",
    "import numpy as np\n",
    "import pandas as pd\n",
    "pd.set_option('display.max_columns', None)\n",
    "import seaborn as sns\n",
    "from sklearn.preprocessing import StandardScaler"
   ]
  },
  {
   "cell_type": "code",
   "execution_count": 2,
   "id": "aeb22ce3",
   "metadata": {},
   "outputs": [],
   "source": [
    "df = pd.read_csv('./amazon_reviews.csv')\n"
   ]
  },
  {
   "cell_type": "code",
   "execution_count": 3,
   "id": "76186e69",
   "metadata": {},
   "outputs": [],
   "source": [
    "# Loại bỏ các cột không cần thiết\n",
    "df = df.drop(columns=['verified', 'image', 'reviewTime', 'summary', 'reviewText', 'vote'])"
   ]
  },
  {
   "cell_type": "code",
   "execution_count": 4,
   "id": "802bab78",
   "metadata": {},
   "outputs": [
    {
     "data": {
      "text/html": [
       "<div>\n",
       "<style scoped>\n",
       "    .dataframe tbody tr th:only-of-type {\n",
       "        vertical-align: middle;\n",
       "    }\n",
       "\n",
       "    .dataframe tbody tr th {\n",
       "        vertical-align: top;\n",
       "    }\n",
       "\n",
       "    .dataframe thead th {\n",
       "        text-align: right;\n",
       "    }\n",
       "</style>\n",
       "<table border=\"1\" class=\"dataframe\">\n",
       "  <thead>\n",
       "    <tr style=\"text-align: right;\">\n",
       "      <th></th>\n",
       "      <th>userName</th>\n",
       "      <th>itemName</th>\n",
       "      <th>description</th>\n",
       "      <th>brand</th>\n",
       "      <th>feature</th>\n",
       "      <th>category</th>\n",
       "      <th>price</th>\n",
       "      <th>rating</th>\n",
       "    </tr>\n",
       "  </thead>\n",
       "  <tbody>\n",
       "    <tr>\n",
       "      <th>2</th>\n",
       "      <td>Jaclyn</td>\n",
       "      <td>Pet Champion Adjustable No-Pull Harness, Colla...</td>\n",
       "      <td>[\"The Pet Champion Large/ Extra Large 22-36 in...</td>\n",
       "      <td>Pet Champion</td>\n",
       "      <td>['Features Bright Pink Lemonade pattern', 'Dua...</td>\n",
       "      <td>Pet_Supplies</td>\n",
       "      <td>$7.99</td>\n",
       "      <td>5.0</td>\n",
       "    </tr>\n",
       "    <tr>\n",
       "      <th>3</th>\n",
       "      <td>Christinne M</td>\n",
       "      <td>Koh-I-Noor Progresso Woodless Colored 24-Penci...</td>\n",
       "      <td>['Koh-I-Noor Progresso Woodless Colored 24-Pen...</td>\n",
       "      <td>KOH-I-NOOR</td>\n",
       "      <td>['Rich, pigmented, solid color encased in lacq...</td>\n",
       "      <td>Arts_Crafts_and_Sewing</td>\n",
       "      <td>$14.18</td>\n",
       "      <td>5.0</td>\n",
       "    </tr>\n",
       "    <tr>\n",
       "      <th>6</th>\n",
       "      <td>patrick</td>\n",
       "      <td>Blue Buffalo Life Protection Formula Natural P...</td>\n",
       "      <td>['Because puppyhood is such an important stage...</td>\n",
       "      <td>Blue Buffalo</td>\n",
       "      <td>['HIGH QUALITY PUPPY FOOD: Blue Buffalo always...</td>\n",
       "      <td>Pet_Supplies</td>\n",
       "      <td>$28.99</td>\n",
       "      <td>5.0</td>\n",
       "    </tr>\n",
       "    <tr>\n",
       "      <th>7</th>\n",
       "      <td>Craig S.</td>\n",
       "      <td>Squishy Face Studio Flirt Pole V2 with Braided...</td>\n",
       "      <td>[\"Want An Easy Way To Keep Your Dog Happy And ...</td>\n",
       "      <td>Squishy Face Studio</td>\n",
       "      <td>['New and improved V2 developed using customer...</td>\n",
       "      <td>Pet_Supplies</td>\n",
       "      <td>$31.38</td>\n",
       "      <td>3.0</td>\n",
       "    </tr>\n",
       "    <tr>\n",
       "      <th>8</th>\n",
       "      <td>Super Sanne</td>\n",
       "      <td>Penn Plax Net Breeder for Aquarium</td>\n",
       "      <td>['The Net Breeder by Penn Plax is the safe way...</td>\n",
       "      <td>Penn Plax</td>\n",
       "      <td>['ISOLATE THE FRY: the Net Breeder Deluxe is t...</td>\n",
       "      <td>Pet_Supplies</td>\n",
       "      <td>$5.49</td>\n",
       "      <td>2.0</td>\n",
       "    </tr>\n",
       "  </tbody>\n",
       "</table>\n",
       "</div>"
      ],
      "text/plain": [
       "       userName                                           itemName  \\\n",
       "2        Jaclyn  Pet Champion Adjustable No-Pull Harness, Colla...   \n",
       "3  Christinne M  Koh-I-Noor Progresso Woodless Colored 24-Penci...   \n",
       "6       patrick  Blue Buffalo Life Protection Formula Natural P...   \n",
       "7      Craig S.  Squishy Face Studio Flirt Pole V2 with Braided...   \n",
       "8   Super Sanne                 Penn Plax Net Breeder for Aquarium   \n",
       "\n",
       "                                         description                brand  \\\n",
       "2  [\"The Pet Champion Large/ Extra Large 22-36 in...         Pet Champion   \n",
       "3  ['Koh-I-Noor Progresso Woodless Colored 24-Pen...           KOH-I-NOOR   \n",
       "6  ['Because puppyhood is such an important stage...         Blue Buffalo   \n",
       "7  [\"Want An Easy Way To Keep Your Dog Happy And ...  Squishy Face Studio   \n",
       "8  ['The Net Breeder by Penn Plax is the safe way...            Penn Plax   \n",
       "\n",
       "                                             feature                category  \\\n",
       "2  ['Features Bright Pink Lemonade pattern', 'Dua...            Pet_Supplies   \n",
       "3  ['Rich, pigmented, solid color encased in lacq...  Arts_Crafts_and_Sewing   \n",
       "6  ['HIGH QUALITY PUPPY FOOD: Blue Buffalo always...            Pet_Supplies   \n",
       "7  ['New and improved V2 developed using customer...            Pet_Supplies   \n",
       "8  ['ISOLATE THE FRY: the Net Breeder Deluxe is t...            Pet_Supplies   \n",
       "\n",
       "    price  rating  \n",
       "2   $7.99     5.0  \n",
       "3  $14.18     5.0  \n",
       "6  $28.99     5.0  \n",
       "7  $31.38     3.0  \n",
       "8   $5.49     2.0  "
      ]
     },
     "execution_count": 4,
     "metadata": {},
     "output_type": "execute_result"
    }
   ],
   "source": [
    "\n",
    "# Thay thế chuỗi '[]' bằng chuỗi rỗng ''\n",
    "df['feature'] = df['feature'].replace('[]', '')\n",
    "# Loại bỏ các dòng có giá trị rỗng sau khi thay thế\n",
    "df = df[df['feature'] != '']\n",
    "\n",
    "# Loại bỏ các dòng có giá trị NaN trong cột 'price'\n",
    "df = df.dropna(subset=['price'])\n",
    "df.head()"
   ]
  },
  {
   "cell_type": "code",
   "execution_count": 5,
   "id": "a94e4646",
   "metadata": {},
   "outputs": [],
   "source": [
    "# Bộ dữ liệu khá lớn, tuy nhiên lại có một số tên người dùng lại không có (Amazon Customer)\n",
    "# Do cần đánh giá rate nên lọc một số userName mà rate < 20, itemName < 5\n",
    "# Đếm số lần xuất hiện của mỗi userName và lọc\n",
    "user_counts = df['userName'].value_counts()\n",
    "valid_usernames = user_counts[user_counts >= 20].index\n",
    "\n",
    "# Đếm số lần xuất hiện của mỗi itemName và lọc\n",
    "item_counts = df['itemName'].value_counts()\n",
    "valid_items = item_counts[item_counts >= 5].index\n",
    "\n",
    "# Lọc dữ liệu dựa trên userName và itemName\n",
    "df_filtered = df[~df['userName'].isin(['Amazon Customer']) & \n",
    "                 df['userName'].isin(valid_usernames) &\n",
    "                 df['itemName'].isin(valid_items)]"
   ]
  },
  {
   "cell_type": "code",
   "execution_count": 6,
   "id": "f926df45",
   "metadata": {},
   "outputs": [
    {
     "data": {
      "text/plain": [
       "(48098, 8)"
      ]
     },
     "execution_count": 6,
     "metadata": {},
     "output_type": "execute_result"
    }
   ],
   "source": [
    "#shape of the dataframe\n",
    "df_filtered.shape"
   ]
  },
  {
   "cell_type": "code",
   "execution_count": 7,
   "id": "76511176",
   "metadata": {},
   "outputs": [],
   "source": [
    "df = df_filtered.copy()"
   ]
  },
  {
   "cell_type": "code",
   "execution_count": 8,
   "id": "7fd35a36",
   "metadata": {},
   "outputs": [],
   "source": [
    "# Lấy danh sách duy nhất các userName\n",
    "users = df[['userName']].drop_duplicates().reset_index(drop=True)\n",
    "# Tạo userId tự tạo\n",
    "users['userId'] = users.index + 1  # Bắt đầu từ 1\n",
    "\n",
    "# Chọn cột cần thiết\n",
    "users = users[['userId', 'userName']]\n",
    "\n",
    "# Lưu vào tệp CSV\n",
    "users.to_csv('users.csv', index=False)\n"
   ]
  },
  {
   "cell_type": "code",
   "execution_count": 9,
   "id": "0eff2322",
   "metadata": {},
   "outputs": [],
   "source": [
    "# Lấy danh sách duy nhất các itemName và feature\n",
    "items = df[['itemName', 'feature', 'price']].drop_duplicates().reset_index(drop=True)\n",
    "\n",
    "# Tạo itemId tự tạo\n",
    "items['itemId'] = items.index + 1  # Bắt đầu từ 1\n",
    "\n",
    "# Chọn cột cần thiết\n",
    "items = items[['itemId', 'itemName', 'feature', 'price']]\n",
    "\n",
    "# Lưu vào tệp CSV\n",
    "items.to_csv('items.csv', index=False)\n"
   ]
  },
  {
   "cell_type": "code",
   "execution_count": 10,
   "id": "0a781564",
   "metadata": {},
   "outputs": [
    {
     "name": "stdout",
     "output_type": "stream",
     "text": [
      "\n",
      "Dữ liệu :\n",
      "       userId  itemId  rating\n",
      "0           1       1     5.0\n",
      "42344       1     778     5.0\n",
      "42345       1    1365     5.0\n",
      "42346       1    1559     5.0\n",
      "42420       1     778     5.0\n"
     ]
    }
   ],
   "source": [
    "\n",
    "# Đọc lại tệp users và items\n",
    "users = pd.read_csv('users.csv')\n",
    "items = pd.read_csv('items.csv')\n",
    "\n",
    "# Merge để lấy userId và itemId\n",
    "ratings = df.merge(users, on='userName', how='left')\n",
    "ratings = ratings.merge(items, on='itemName', how='left')\n",
    "\n",
    "# Chọn các cột cần thiết\n",
    "ratings = ratings[['userId', 'itemId', 'rating']]\n",
    "\n",
    "# Sắp xếp dữ liệu theo cột 'userId' tăng dần\n",
    "ratings_sorted = ratings.sort_values(by='userId', ascending=True)\n",
    "\n",
    "# Kiểm tra dữ liệu sau khi sắp xếp\n",
    "print(\"\\nDữ liệu :\")\n",
    "print(ratings_sorted.head())\n",
    "\n",
    "# Lưu dữ liệuvào tệp 'ratings.csv'\n",
    "ratings_sorted.to_csv('ratings.csv', index=False)\n"
   ]
  }
 ],
 "metadata": {
  "kernelspec": {
   "display_name": "base",
   "language": "python",
   "name": "python3"
  },
  "language_info": {
   "codemirror_mode": {
    "name": "ipython",
    "version": 3
   },
   "file_extension": ".py",
   "mimetype": "text/x-python",
   "name": "python",
   "nbconvert_exporter": "python",
   "pygments_lexer": "ipython3",
   "version": "3.11.5"
  },
  "papermill": {
   "default_parameters": {},
   "duration": 17.852979,
   "end_time": "2022-02-20T12:53:08.832586",
   "environment_variables": {},
   "exception": null,
   "input_path": "__notebook__.ipynb",
   "output_path": "__notebook__.ipynb",
   "parameters": {},
   "start_time": "2022-02-20T12:52:50.979607",
   "version": "2.3.3"
  }
 },
 "nbformat": 4,
 "nbformat_minor": 5
}
