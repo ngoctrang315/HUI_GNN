{
 "cells": [
  {
   "cell_type": "markdown",
   "id": "52082b4e",
   "metadata": {
    "papermill": {
     "duration": 0.038811,
     "end_time": "2022-02-20T12:53:02.142966",
     "exception": false,
     "start_time": "2022-02-20T12:53:02.104155",
     "status": "completed"
    },
    "tags": []
   },
   "source": [
    "# Import libraries <a id = \"0\"></a> "
   ]
  },
  {
   "cell_type": "code",
   "execution_count": 14,
   "id": "edb94936",
   "metadata": {
    "execution": {
     "iopub.execute_input": "2022-02-20T12:53:02.252272Z",
     "iopub.status.busy": "2022-02-20T12:53:02.250642Z",
     "iopub.status.idle": "2022-02-20T12:53:03.506635Z",
     "shell.execute_reply": "2022-02-20T12:53:03.508002Z",
     "shell.execute_reply.started": "2022-02-20T12:51:57.295108Z"
    },
    "papermill": {
     "duration": 1.323533,
     "end_time": "2022-02-20T12:53:03.508315",
     "exception": false,
     "start_time": "2022-02-20T12:53:02.184782",
     "status": "completed"
    },
    "tags": []
   },
   "outputs": [],
   "source": [
    "import matplotlib.pyplot as plt\n",
    "\n",
    "import numpy as np\n",
    "import pandas as pd\n",
    "pd.set_option('display.max_columns', None)\n",
    "import seaborn as sns\n",
    "\n",
    "from sklearn.preprocessing import StandardScaler\n",
    "\n",
    "import warnings\n",
    "warnings.filterwarnings(\"ignore\")\n"
   ]
  },
  {
   "cell_type": "code",
   "execution_count": 15,
   "id": "aeb22ce3",
   "metadata": {},
   "outputs": [],
   "source": [
    "df = pd.read_csv('./amazon_reviews.csv')\n"
   ]
  },
  {
   "cell_type": "code",
   "execution_count": 16,
   "id": "802bab78",
   "metadata": {},
   "outputs": [
    {
     "data": {
      "text/html": [
       "<div>\n",
       "<style scoped>\n",
       "    .dataframe tbody tr th:only-of-type {\n",
       "        vertical-align: middle;\n",
       "    }\n",
       "\n",
       "    .dataframe tbody tr th {\n",
       "        vertical-align: top;\n",
       "    }\n",
       "\n",
       "    .dataframe thead th {\n",
       "        text-align: right;\n",
       "    }\n",
       "</style>\n",
       "<table border=\"1\" class=\"dataframe\">\n",
       "  <thead>\n",
       "    <tr style=\"text-align: right;\">\n",
       "      <th></th>\n",
       "      <th>userName</th>\n",
       "      <th>itemName</th>\n",
       "      <th>description</th>\n",
       "      <th>brand</th>\n",
       "      <th>feature</th>\n",
       "      <th>category</th>\n",
       "      <th>price</th>\n",
       "      <th>rating</th>\n",
       "    </tr>\n",
       "  </thead>\n",
       "  <tbody>\n",
       "    <tr>\n",
       "      <th>0</th>\n",
       "      <td>Amazon Customer</td>\n",
       "      <td>Toblerone Swiss Milk Chocolate Bar, Crunchy Sa...</td>\n",
       "      <td>[\"Made from deliciously decadent ingredients, ...</td>\n",
       "      <td>Toblerone</td>\n",
       "      <td>[]</td>\n",
       "      <td>Prime_Pantry</td>\n",
       "      <td>$1.63</td>\n",
       "      <td>5.0</td>\n",
       "    </tr>\n",
       "    <tr>\n",
       "      <th>1</th>\n",
       "      <td>Carla</td>\n",
       "      <td>Prince of Peace Organic Tea, Oolong, 100 Tea Bags</td>\n",
       "      <td>['Prince of Peace Enterprises, Inc., founded i...</td>\n",
       "      <td>Prince Of Peace</td>\n",
       "      <td>[]</td>\n",
       "      <td>Grocery_and_Gourmet_Food</td>\n",
       "      <td>$6.40</td>\n",
       "      <td>5.0</td>\n",
       "    </tr>\n",
       "    <tr>\n",
       "      <th>2</th>\n",
       "      <td>Jaclyn</td>\n",
       "      <td>Pet Champion Adjustable No-Pull Harness, Colla...</td>\n",
       "      <td>[\"The Pet Champion Large/ Extra Large 22-36 in...</td>\n",
       "      <td>Pet Champion</td>\n",
       "      <td>['Features Bright Pink Lemonade pattern', 'Dua...</td>\n",
       "      <td>Pet_Supplies</td>\n",
       "      <td>$7.99</td>\n",
       "      <td>5.0</td>\n",
       "    </tr>\n",
       "    <tr>\n",
       "      <th>3</th>\n",
       "      <td>Christinne M</td>\n",
       "      <td>Koh-I-Noor Progresso Woodless Colored 24-Penci...</td>\n",
       "      <td>['Koh-I-Noor Progresso Woodless Colored 24-Pen...</td>\n",
       "      <td>KOH-I-NOOR</td>\n",
       "      <td>['Rich, pigmented, solid color encased in lacq...</td>\n",
       "      <td>Arts_Crafts_and_Sewing</td>\n",
       "      <td>$14.18</td>\n",
       "      <td>5.0</td>\n",
       "    </tr>\n",
       "    <tr>\n",
       "      <th>6</th>\n",
       "      <td>patrick</td>\n",
       "      <td>Blue Buffalo Life Protection Formula Natural P...</td>\n",
       "      <td>['Because puppyhood is such an important stage...</td>\n",
       "      <td>Blue Buffalo</td>\n",
       "      <td>['HIGH QUALITY PUPPY FOOD: Blue Buffalo always...</td>\n",
       "      <td>Pet_Supplies</td>\n",
       "      <td>$28.99</td>\n",
       "      <td>5.0</td>\n",
       "    </tr>\n",
       "  </tbody>\n",
       "</table>\n",
       "</div>"
      ],
      "text/plain": [
       "          userName                                           itemName  \\\n",
       "0  Amazon Customer  Toblerone Swiss Milk Chocolate Bar, Crunchy Sa...   \n",
       "1            Carla  Prince of Peace Organic Tea, Oolong, 100 Tea Bags   \n",
       "2           Jaclyn  Pet Champion Adjustable No-Pull Harness, Colla...   \n",
       "3     Christinne M  Koh-I-Noor Progresso Woodless Colored 24-Penci...   \n",
       "6          patrick  Blue Buffalo Life Protection Formula Natural P...   \n",
       "\n",
       "                                         description            brand  \\\n",
       "0  [\"Made from deliciously decadent ingredients, ...        Toblerone   \n",
       "1  ['Prince of Peace Enterprises, Inc., founded i...  Prince Of Peace   \n",
       "2  [\"The Pet Champion Large/ Extra Large 22-36 in...     Pet Champion   \n",
       "3  ['Koh-I-Noor Progresso Woodless Colored 24-Pen...       KOH-I-NOOR   \n",
       "6  ['Because puppyhood is such an important stage...     Blue Buffalo   \n",
       "\n",
       "                                             feature  \\\n",
       "0                                                 []   \n",
       "1                                                 []   \n",
       "2  ['Features Bright Pink Lemonade pattern', 'Dua...   \n",
       "3  ['Rich, pigmented, solid color encased in lacq...   \n",
       "6  ['HIGH QUALITY PUPPY FOOD: Blue Buffalo always...   \n",
       "\n",
       "                   category   price  rating  \n",
       "0              Prime_Pantry   $1.63     5.0  \n",
       "1  Grocery_and_Gourmet_Food   $6.40     5.0  \n",
       "2              Pet_Supplies   $7.99     5.0  \n",
       "3    Arts_Crafts_and_Sewing  $14.18     5.0  \n",
       "6              Pet_Supplies  $28.99     5.0  "
      ]
     },
     "execution_count": 16,
     "metadata": {},
     "output_type": "execute_result"
    }
   ],
   "source": [
    "# Loại bỏ các cột không cần thiết\n",
    "df = df.drop(columns=['verified', 'image', 'reviewTime', 'summary', 'reviewText', 'vote'])\n",
    "# Loại bỏ các dòng có giá trị NaN trong cột 'price'\n",
    "df= df.dropna(subset=['price'])\n",
    "df.head() # Hiển thị 5 dòng đầu tiên của DataFrame"
   ]
  },
  {
   "cell_type": "code",
   "execution_count": 17,
   "id": "a94e4646",
   "metadata": {},
   "outputs": [],
   "source": [
    "# Đếm số lần xuất hiện của mỗi userName và lọc\n",
    "user_counts = df['userName'].value_counts()\n",
    "valid_usernames = user_counts[user_counts >= 30].index\n",
    "\n",
    "# Đếm số lần xuất hiện của mỗi itemName và lọc\n",
    "item_counts = df['itemName'].value_counts()\n",
    "valid_items = item_counts[item_counts >= 5].index\n",
    "\n",
    "# Lọc dữ liệu dựa trên userName và itemName\n",
    "df_filtered = df[~df['userName'].isin(['Amazon Customer']) & \n",
    "                 df['userName'].isin(valid_usernames) &\n",
    "                 df['itemName'].isin(valid_items)]"
   ]
  },
  {
   "cell_type": "code",
   "execution_count": 18,
   "id": "f926df45",
   "metadata": {},
   "outputs": [
    {
     "data": {
      "text/plain": [
       "(49389, 8)"
      ]
     },
     "execution_count": 18,
     "metadata": {},
     "output_type": "execute_result"
    }
   ],
   "source": [
    "#shape of the dataframe\n",
    "\n",
    "df_filtered.shape"
   ]
  },
  {
   "cell_type": "code",
   "execution_count": 19,
   "id": "76511176",
   "metadata": {},
   "outputs": [],
   "source": [
    "df = df_filtered.copy()"
   ]
  },
  {
   "cell_type": "code",
   "execution_count": 20,
   "id": "7fd35a36",
   "metadata": {},
   "outputs": [],
   "source": [
    "# Lấy danh sách duy nhất các userName\n",
    "users = df[['userName']].drop_duplicates().reset_index(drop=True)\n",
    "# Tạo userId tự tạo\n",
    "users['userId'] = users.index + 1  # Bắt đầu từ 1\n",
    "\n",
    "# Chọn cột cần thiết\n",
    "users = users[['userId', 'userName']]\n",
    "\n",
    "# Lưu vào tệp CSV\n",
    "users.to_csv('users.csv', index=False)\n"
   ]
  },
  {
   "cell_type": "code",
   "execution_count": 21,
   "id": "0eff2322",
   "metadata": {},
   "outputs": [],
   "source": [
    "# Lấy danh sách duy nhất các itemName và feature\n",
    "items = df[['itemName']].drop_duplicates().reset_index(drop=True)\n",
    "\n",
    "# Tạo itemId tự tạo\n",
    "items['itemId'] = items.index + 1  # Bắt đầu từ 1\n",
    "\n",
    "# Chọn cột cần thiết\n",
    "items = items[['itemId', 'itemName']]\n",
    "\n",
    "# Lưu vào tệp CSV\n",
    "items.to_csv('items.csv', index=False)\n"
   ]
  },
  {
   "cell_type": "code",
   "execution_count": 22,
   "id": "0a781564",
   "metadata": {},
   "outputs": [
    {
     "name": "stdout",
     "output_type": "stream",
     "text": [
      "\n",
      "Dữ liệu sau khi sắp xếp:\n",
      "       userId  itemId  rating\n",
      "0           1       1     5.0\n",
      "42685       1    8428     5.0\n",
      "42826       1     910     5.0\n",
      "29490       1   11762     5.0\n",
      "18162       1    8604     5.0\n"
     ]
    }
   ],
   "source": [
    "\n",
    "# Đọc lại tệp users và items để đảm bảo\n",
    "users = pd.read_csv('users.csv')\n",
    "items = pd.read_csv('items.csv')\n",
    "\n",
    "# Merge để lấy userId và itemId\n",
    "ratings = df.merge(users, on='userName', how='left')\n",
    "ratings = ratings.merge(items, on='itemName', how='left')\n",
    "\n",
    "# Chọn các cột cần thiết\n",
    "ratings = ratings[['userId', 'itemId', 'rating']]\n",
    "\n",
    "# Bước 1: Sắp xếp dữ liệu theo cột 'userId' tăng dần\n",
    "ratings_sorted = ratings.sort_values(by='userId', ascending=True)\n",
    "\n",
    "# Kiểm tra dữ liệu sau khi sắp xếp\n",
    "print(\"\\nDữ liệu sau khi sắp xếp:\")\n",
    "print(ratings_sorted.head())\n",
    "\n",
    "# Bước 2: Lưu dữ liệu đã sắp xếp vào tệp 'ratings.csv'\n",
    "ratings_sorted.to_csv('ratings.csv', index=False)\n"
   ]
  },
  {
   "cell_type": "code",
   "execution_count": 23,
   "id": "9baa68a4",
   "metadata": {},
   "outputs": [
    {
     "data": {
      "text/html": [
       "<div>\n",
       "<style scoped>\n",
       "    .dataframe tbody tr th:only-of-type {\n",
       "        vertical-align: middle;\n",
       "    }\n",
       "\n",
       "    .dataframe tbody tr th {\n",
       "        vertical-align: top;\n",
       "    }\n",
       "\n",
       "    .dataframe thead th {\n",
       "        text-align: right;\n",
       "    }\n",
       "</style>\n",
       "<table border=\"1\" class=\"dataframe\">\n",
       "  <thead>\n",
       "    <tr style=\"text-align: right;\">\n",
       "      <th></th>\n",
       "      <th>itemId</th>\n",
       "      <th>itemName</th>\n",
       "    </tr>\n",
       "  </thead>\n",
       "  <tbody>\n",
       "    <tr>\n",
       "      <th>0</th>\n",
       "      <td>1</td>\n",
       "      <td>Prince of Peace Organic Tea, Oolong, 100 Tea Bags</td>\n",
       "    </tr>\n",
       "    <tr>\n",
       "      <th>1</th>\n",
       "      <td>2</td>\n",
       "      <td>Cimo Slim Flexible TPU Cimo Shock Absorbing Ca...</td>\n",
       "    </tr>\n",
       "    <tr>\n",
       "      <th>2</th>\n",
       "      <td>3</td>\n",
       "      <td>PetSafe Easy Walk Harness</td>\n",
       "    </tr>\n",
       "    <tr>\n",
       "      <th>3</th>\n",
       "      <td>4</td>\n",
       "      <td>Kaytee Crittertrail Lazy Lookout Accessory Kit</td>\n",
       "    </tr>\n",
       "    <tr>\n",
       "      <th>4</th>\n",
       "      <td>5</td>\n",
       "      <td>Ethical Pet Wide Durable Heavy Gauge Plastic C...</td>\n",
       "    </tr>\n",
       "  </tbody>\n",
       "</table>\n",
       "</div>"
      ],
      "text/plain": [
       "   itemId                                           itemName\n",
       "0       1  Prince of Peace Organic Tea, Oolong, 100 Tea Bags\n",
       "1       2  Cimo Slim Flexible TPU Cimo Shock Absorbing Ca...\n",
       "2       3                          PetSafe Easy Walk Harness\n",
       "3       4     Kaytee Crittertrail Lazy Lookout Accessory Kit\n",
       "4       5  Ethical Pet Wide Durable Heavy Gauge Plastic C..."
      ]
     },
     "execution_count": 23,
     "metadata": {},
     "output_type": "execute_result"
    }
   ],
   "source": [
    "items_df= pd.read_csv('./items.csv')\n",
    "items_df.head()\n"
   ]
  },
  {
   "cell_type": "code",
   "execution_count": 24,
   "id": "a14fc1a1",
   "metadata": {},
   "outputs": [
    {
     "data": {
      "text/html": [
       "<div>\n",
       "<style scoped>\n",
       "    .dataframe tbody tr th:only-of-type {\n",
       "        vertical-align: middle;\n",
       "    }\n",
       "\n",
       "    .dataframe tbody tr th {\n",
       "        vertical-align: top;\n",
       "    }\n",
       "\n",
       "    .dataframe thead th {\n",
       "        text-align: right;\n",
       "    }\n",
       "</style>\n",
       "<table border=\"1\" class=\"dataframe\">\n",
       "  <thead>\n",
       "    <tr style=\"text-align: right;\">\n",
       "      <th></th>\n",
       "      <th>userId</th>\n",
       "      <th>itemId</th>\n",
       "      <th>rating</th>\n",
       "    </tr>\n",
       "  </thead>\n",
       "  <tbody>\n",
       "    <tr>\n",
       "      <th>0</th>\n",
       "      <td>1</td>\n",
       "      <td>1</td>\n",
       "      <td>5.0</td>\n",
       "    </tr>\n",
       "    <tr>\n",
       "      <th>1</th>\n",
       "      <td>1</td>\n",
       "      <td>8428</td>\n",
       "      <td>5.0</td>\n",
       "    </tr>\n",
       "    <tr>\n",
       "      <th>2</th>\n",
       "      <td>1</td>\n",
       "      <td>910</td>\n",
       "      <td>5.0</td>\n",
       "    </tr>\n",
       "    <tr>\n",
       "      <th>3</th>\n",
       "      <td>1</td>\n",
       "      <td>11762</td>\n",
       "      <td>5.0</td>\n",
       "    </tr>\n",
       "    <tr>\n",
       "      <th>4</th>\n",
       "      <td>1</td>\n",
       "      <td>8604</td>\n",
       "      <td>5.0</td>\n",
       "    </tr>\n",
       "  </tbody>\n",
       "</table>\n",
       "</div>"
      ],
      "text/plain": [
       "   userId  itemId  rating\n",
       "0       1       1     5.0\n",
       "1       1    8428     5.0\n",
       "2       1     910     5.0\n",
       "3       1   11762     5.0\n",
       "4       1    8604     5.0"
      ]
     },
     "execution_count": 24,
     "metadata": {},
     "output_type": "execute_result"
    }
   ],
   "source": [
    "ratings_df= pd.read_csv('./ratings.csv')\n",
    "ratings_df.head()\n"
   ]
  },
  {
   "cell_type": "code",
   "execution_count": 25,
   "id": "8cb33bce",
   "metadata": {},
   "outputs": [],
   "source": [
    "users_df = pd.read_csv('./users.csv')\n",
    "users_df.head()\n",
    "n_users = users.shape[0]\n"
   ]
  },
  {
   "cell_type": "code",
   "execution_count": 26,
   "id": "950df583",
   "metadata": {},
   "outputs": [],
   "source": [
    "#Example of Stemming\n",
    "from nltk.stem import PorterStemmer\n",
    "porter = PorterStemmer()\n",
    "porter.stem('dancing')\n",
    "\n",
    "import nltk\n",
    "#nltk.download('wordnet')\n",
    "from nltk.stem import WordNetLemmatizer\n",
    "\n",
    "lemmatizer = WordNetLemmatizer()"
   ]
  },
  {
   "cell_type": "code",
   "execution_count": 27,
   "id": "8503620b",
   "metadata": {},
   "outputs": [],
   "source": [
    "import pandas as pd\n",
    "import re\n",
    "import string\n",
    "from sklearn.metrics.pairwise import cosine_similarity\n",
    "from sklearn.feature_extraction.text import CountVectorizer"
   ]
  },
  {
   "cell_type": "code",
   "execution_count": 28,
   "id": "c32d856b",
   "metadata": {},
   "outputs": [],
   "source": [
    "# Chuyển đổi cột itemName thành chữ thường\n",
    "items_df[\"itemName\"] = items_df[\"itemName\"].str.lower()\n",
    "\n",
    "# Hàm loại bỏ thẻ (tag)\n",
    "def remove_tags(text):\n",
    "    pattern = re.compile(\"<.*?>\")\n",
    "    return pattern.sub(r'', text)\n",
    "\n",
    "# Xóa thẻ\n",
    "items_df['itemName'] = items_df['itemName'].apply(remove_tags)\n",
    "\n",
    "# Xóa dấu câu\n",
    "punctuation = string.punctuation\n",
    "\n",
    "def remove_punc(text):\n",
    "    return text.translate(str.maketrans('', '', punctuation))\n",
    "\n",
    "items_df['itemName'] = items_df['itemName'].apply(remove_punc)\n",
    "\n",
    "# Sử dụng CountVectorizer và tính cosine similarity\n",
    "cv = CountVectorizer(max_features=5000, stop_words=\"english\")\n",
    "vectors = cv.fit_transform(items_df[\"itemName\"]).toarray()\n",
    "similarity = cosine_similarity(vectors)"
   ]
  },
  {
   "cell_type": "code",
   "execution_count": 29,
   "id": "82d9b7e5",
   "metadata": {},
   "outputs": [
    {
     "data": {
      "text/plain": [
       "array([[0, 0, 0, ..., 0, 0, 0],\n",
       "       [0, 0, 0, ..., 0, 0, 0],\n",
       "       [0, 0, 0, ..., 0, 0, 0],\n",
       "       ...,\n",
       "       [0, 0, 0, ..., 0, 0, 0],\n",
       "       [0, 0, 0, ..., 0, 0, 0],\n",
       "       [0, 0, 0, ..., 0, 0, 0]], dtype=int64)"
      ]
     },
     "execution_count": 29,
     "metadata": {},
     "output_type": "execute_result"
    }
   ],
   "source": [
    "vectors"
   ]
  },
  {
   "cell_type": "code",
   "execution_count": 30,
   "id": "4378190b",
   "metadata": {},
   "outputs": [
    {
     "name": "stdout",
     "output_type": "stream",
     "text": [
      "TF-IDF của item đầu tiên: [0 0 0 ... 0 0 0]\n"
     ]
    }
   ],
   "source": [
    "print(\"TF-IDF của item đầu tiên:\", vectors[0])"
   ]
  },
  {
   "cell_type": "code",
   "execution_count": 31,
   "id": "3bcad321",
   "metadata": {},
   "outputs": [
    {
     "name": "stdout",
     "output_type": "stream",
     "text": [
      "Feature names: ['000' '003' '03' ... 'zukes' 'zupreem' 'zymox']\n"
     ]
    }
   ],
   "source": [
    "# Lấy tên các đặc trưng\n",
    "feature_names = cv.get_feature_names_out()\n",
    "print(\"Feature names:\", feature_names)\n"
   ]
  },
  {
   "cell_type": "code",
   "execution_count": 32,
   "id": "e699eebc",
   "metadata": {},
   "outputs": [
    {
     "name": "stdout",
     "output_type": "stream",
     "text": [
      "Feature names have been saved to 'feature_names.csv'\n"
     ]
    }
   ],
   "source": [
    "# Tạo DataFrame từ tên các đặc trưng\n",
    "features_df = pd.DataFrame(feature_names, columns=['Feature Names'])\n",
    "\n",
    "# Lưu DataFrame thành file CSV\n",
    "features_df.to_csv('feature_names.csv', index=False)\n",
    "\n",
    "print(\"Feature names have been saved to 'feature_names.csv'\")"
   ]
  },
  {
   "cell_type": "code",
   "execution_count": 33,
   "id": "15ad40d7",
   "metadata": {},
   "outputs": [
    {
     "name": "stdout",
     "output_type": "stream",
     "text": [
      "afc petmate 26317 cat crazies cat toy\n",
      "moody pet flingamastring cat toy\n",
      "neko flies kragonfly interchangeable cat toy attachment only\n",
      "petstages cat scratcher cat hammock cat scratching post\n",
      "cat dancer  cat charmer wand teaser toy\n"
     ]
    }
   ],
   "source": [
    "# Kiểm tra gợi ý\n",
    "\n",
    "# Hàm gợi ý (recommend)\n",
    "def recommend(tag):\n",
    "    item_index = items_df[items_df[\"itemName\"] == tag].index[0]\n",
    "    distances = similarity[item_index]\n",
    "    item_list = sorted(list(enumerate(distances)), reverse=True, key=lambda x: x[1])[1:6]\n",
    "    \n",
    "    for i in item_list:\n",
    "        print(items_df.iloc[i[0]].itemName)\n",
    "\n",
    "\n",
    "recommend(\"petstages tower of tracks cat toy\")"
   ]
  },
  {
   "cell_type": "code",
   "execution_count": 34,
   "id": "98080ad1",
   "metadata": {},
   "outputs": [],
   "source": [
    "# Chuyển đổi DataFrame thành Numpy array\n",
    "ratings_matrix = ratings.to_numpy()\n"
   ]
  },
  {
   "cell_type": "code",
   "execution_count": 35,
   "id": "648caa57",
   "metadata": {},
   "outputs": [],
   "source": [
    "def get_items_rated_by_user(rate_matrix, user_id):\n",
    "    \"\"\"\n",
    "    Trả về (item_ids, scores)\n",
    "    \"\"\"\n",
    "    user_row_indices = np.where(rate_matrix[:, 0] == user_id + 1)[0]\n",
    "    if len(user_row_indices) == 0:\n",
    "        return np.array([]), np.array([])  # Nếu không có đánh giá, trả về mảng rỗng\n",
    "\n",
    "    item_ids = rate_matrix[user_row_indices, 1] - 1  # Chuyển đổi thành chỉ số bắt đầu từ 0\n",
    "    scores = rate_matrix[user_row_indices, 2]\n",
    "    return item_ids.astype(int), scores  # Chuyển đổi thành kiểu số nguyên\n"
   ]
  },
  {
   "cell_type": "code",
   "execution_count": 36,
   "id": "27486c6f",
   "metadata": {},
   "outputs": [
    {
     "name": "stdout",
     "output_type": "stream",
     "text": [
      "Number of users: 908\n"
     ]
    }
   ],
   "source": [
    "n_users = users.shape[0]\n",
    "print(\"Number of users:\", n_users)\n",
    "# users.head()  # Uncomment để xem một vài ví dụ"
   ]
  },
  {
   "cell_type": "code",
   "execution_count": 37,
   "id": "0494dcd7",
   "metadata": {},
   "outputs": [],
   "source": [
    "# Khởi tạo danh sách để lưu trữ mô hình KNN cho mỗi người dùng\n",
    "knn_models = [None] * n_users"
   ]
  },
  {
   "cell_type": "code",
   "execution_count": 38,
   "id": "3e946fdb",
   "metadata": {},
   "outputs": [],
   "source": [
    "import pandas as pd \n",
    "import numpy as np\n",
    "from sklearn.feature_extraction.text import TfidfTransformer\n",
    "from sklearn.neighbors import KNeighborsRegressor\n",
    "from math import sqrt"
   ]
  },
  {
   "cell_type": "code",
   "execution_count": 39,
   "id": "3d1f49ae",
   "metadata": {},
   "outputs": [],
   "source": [
    "n_items = items_df.shape[0]"
   ]
  },
  {
   "cell_type": "code",
   "execution_count": 41,
   "id": "d4e6359b",
   "metadata": {},
   "outputs": [
    {
     "name": "stdout",
     "output_type": "stream",
     "text": [
      "MAE for training: 4.340521168681286\n"
     ]
    }
   ],
   "source": [
    "import numpy as np\n",
    "from math import sqrt\n",
    "\n",
    "# Giả sử bạn đã định nghĩa `ratings_df` và chuyển đổi nó thành mảng NumPy\n",
    "ratings_matrix = ratings_df.to_numpy()\n",
    "\n",
    "# Hàm lấy các item đã được người dùng đánh giá\n",
    "def get_items_rated_by_user(rate_matrix, user_id):\n",
    "    \"\"\"\n",
    "    Trả về (item_ids, scores)\n",
    "    \"\"\"\n",
    "    user_row_indices = np.where(rate_matrix[:, 0] == user_id + 1)[0]\n",
    "    if len(user_row_indices) == 0:\n",
    "        return np.array([]), np.array([])  # Nếu không có đánh giá, trả về mảng rỗng\n",
    "\n",
    "    item_ids = rate_matrix[user_row_indices, 1] - 1  # Chuyển đổi thành chỉ số bắt đầu từ 0\n",
    "    scores = rate_matrix[user_row_indices, 2]\n",
    "    return item_ids.astype(int), scores  # Chuyển đổi thành kiểu số nguyên\n",
    "\n",
    "# Khởi tạo danh sách để lưu trữ mô hình KNN cho mỗi người dùng\n",
    "knn_models = [None] * n_users\n",
    "\n",
    "# Huấn luyện KNN Regressor cho mỗi người dùng\n",
    "for n in range(n_users):\n",
    "    ids, scores = get_items_rated_by_user(ratings_matrix, n)\n",
    "\n",
    "    if len(ids) == 0:\n",
    "        knn_models[n] = None  # Không có đánh giá\n",
    "        continue\n",
    "\n",
    "    knn = KNeighborsRegressor(n_neighbors=5, weights='uniform', metric='cosine')\n",
    "\n",
    "    # Đảm bảo rằng ids là kiểu số nguyên\n",
    "    Xhat = vectors[ids.astype(int), :]  # Đặc trưng của các item đã được đánh giá\n",
    "    y = scores  # Điểm đánh giá thực tế\n",
    "\n",
    "    # Huấn luyện mô hình\n",
    "    knn.fit(Xhat, y)\n",
    "\n",
    "    # Lưu mô hình\n",
    "    knn_models[n] = knn\n",
    "\n",
    "n_items = items_df.shape[0]\n",
    "\n",
    "# Dự đoán điểm đánh giá cho tất cả người dùng và item\n",
    "Yhat = np.zeros((n_items, n_users))\n",
    "\n",
    "# Hàm đánh giá MAE\n",
    "def evaluate(Yhat, rates):\n",
    "    absolute_errors = 0  # Tổng lỗi tuyệt đối\n",
    "    count = 0  # Số lượng đánh giá\n",
    "\n",
    "    for n in range(n_users):\n",
    "        ids, scores_truth = get_items_rated_by_user(rates, n)\n",
    "        if len(ids) == 0:\n",
    "            continue  # Nếu người dùng chưa đánh giá item nào, bỏ qua\n",
    "\n",
    "        scores_pred = Yhat[ids, n]\n",
    "        errors = np.abs(scores_truth - scores_pred)  # Lỗi tuyệt đối\n",
    "        absolute_errors += errors.sum()  # Cộng dồn lỗi tuyệt đối\n",
    "        count += errors.size  # Cộng dồn số lượng đánh giá\n",
    "\n",
    "    return absolute_errors / count if count != 0 else float('nan')  # Tính MAE\n",
    "\n",
    "# In kết quả MAE\n",
    "print(\"MAE for training:\", evaluate(Yhat, ratings_matrix))\n"
   ]
  },
  {
   "cell_type": "code",
   "execution_count": null,
   "id": "ba952913",
   "metadata": {},
   "outputs": [],
   "source": []
  }
 ],
 "metadata": {
  "kernelspec": {
   "display_name": "base",
   "language": "python",
   "name": "python3"
  },
  "language_info": {
   "codemirror_mode": {
    "name": "ipython",
    "version": 3
   },
   "file_extension": ".py",
   "mimetype": "text/x-python",
   "name": "python",
   "nbconvert_exporter": "python",
   "pygments_lexer": "ipython3",
   "version": "3.11.5"
  },
  "papermill": {
   "default_parameters": {},
   "duration": 17.852979,
   "end_time": "2022-02-20T12:53:08.832586",
   "environment_variables": {},
   "exception": null,
   "input_path": "__notebook__.ipynb",
   "output_path": "__notebook__.ipynb",
   "parameters": {},
   "start_time": "2022-02-20T12:52:50.979607",
   "version": "2.3.3"
  }
 },
 "nbformat": 4,
 "nbformat_minor": 5
}
